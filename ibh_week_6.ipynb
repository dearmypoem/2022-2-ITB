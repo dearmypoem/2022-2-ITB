{
  "nbformat": 4,
  "nbformat_minor": 0,
  "metadata": {
    "colab": {
      "provenance": [],
      "collapsed_sections": [],
      "authorship_tag": "ABX9TyO4JKjrQci0RLqrGV4DUoeR",
      "include_colab_link": true
    },
    "kernelspec": {
      "name": "python3",
      "display_name": "Python 3"
    },
    "language_info": {
      "name": "python"
    }
  },
  "cells": [
    {
      "cell_type": "markdown",
      "metadata": {
        "id": "view-in-github",
        "colab_type": "text"
      },
      "source": [
        "<a href=\"https://colab.research.google.com/github/dearmypoem/2022-2-ITB/blob/main/ibh_week_6.ipynb\" target=\"_parent\"><img src=\"https://colab.research.google.com/assets/colab-badge.svg\" alt=\"Open In Colab\"/></a>"
      ]
    },
    {
      "cell_type": "markdown",
      "source": [
        "### **연습1: Chipotle 주문 데이터 이용**\n",
        "**(1)  가장 잘 팔리지 않은 (주문량이 가장 적은) 메뉴 10개를 보여 주세요.**\n"
      ],
      "metadata": {
        "id": "3loTRrQm3t9v"
      }
    },
    {
      "cell_type": "code",
      "source": [
        "from google.colab import drive\n",
        "drive.mount(\"/content/drive\")"
      ],
      "metadata": {
        "colab": {
          "base_uri": "https://localhost:8080/"
        },
        "id": "Sn-fWcdrqHzG",
        "outputId": "83baac9b-cc1e-472c-ce09-8e33cc5c8fb8"
      },
      "execution_count": null,
      "outputs": [
        {
          "output_type": "stream",
          "name": "stdout",
          "text": [
            "Drive already mounted at /content/drive; to attempt to forcibly remount, call drive.mount(\"/content/drive\", force_remount=True).\n"
          ]
        }
      ]
    },
    {
      "cell_type": "code",
      "source": [
        "import pandas as pd"
      ],
      "metadata": {
        "id": "of73xl0NsoOb"
      },
      "execution_count": null,
      "outputs": []
    },
    {
      "cell_type": "code",
      "source": [
        "chipo = pd.read_csv(\"/content/drive/My Drive/Colab Notebooks/itb/chipotle.csv\")\n",
        "\n",
        "item_count = chipo[\"item_name\"].value_counts()\n",
        "print(item_count[-10:]) "
      ],
      "metadata": {
        "colab": {
          "base_uri": "https://localhost:8080/"
        },
        "id": "Qjx7hvKfnUfx",
        "outputId": "25e287e9-b81b-4fc5-bb97-6f2afcfb2d85"
      },
      "execution_count": null,
      "outputs": [
        {
          "output_type": "stream",
          "name": "stdout",
          "text": [
            "Veggie Salad                         6\n",
            "Carnitas Salad Bowl                  6\n",
            "Burrito                              6\n",
            "Steak Salad                          4\n",
            "Crispy Tacos                         2\n",
            "Salad                                2\n",
            "Bowl                                 2\n",
            "Chips and Mild Fresh Tomato Salsa    1\n",
            "Veggie Crispy Tacos                  1\n",
            "Carnitas Salad                       1\n",
            "Name: item_name, dtype: int64\n"
          ]
        }
      ]
    },
    {
      "cell_type": "code",
      "source": [
        "item_count[-10:].plot.bar(rot=60)"
      ],
      "metadata": {
        "colab": {
          "base_uri": "https://localhost:8080/",
          "height": 427
        },
        "id": "rttESTtTxxQL",
        "outputId": "ef83a674-2838-4b31-fe5f-5ea65ceddccc"
      },
      "execution_count": null,
      "outputs": [
        {
          "output_type": "execute_result",
          "data": {
            "text/plain": [
              "<matplotlib.axes._subplots.AxesSubplot at 0x7f621d26cdd0>"
            ]
          },
          "metadata": {},
          "execution_count": 15
        },
        {
          "output_type": "display_data",
          "data": {
            "text/plain": [
              "<Figure size 432x288 with 1 Axes>"
            ],
            "image/png": "[encoded data removed]"
          },
          "metadata": {
            "needs_background": "light"
          }
        }
      ]
    },
    {
      "cell_type": "markdown",
      "source": [
        "\n",
        "\n",
        "**(2)  가격이 가장 저렴한 메뉴 5개를 보여주세요.**"
      ],
      "metadata": {
        "id": "d4YU5uTNyS9I"
      }
    },
    {
      "cell_type": "code",
      "source": [
        "chipo['item_price'] = chipo['item_price'].apply(lambda x: float(x[1:]))"
      ],
      "metadata": {
        "id": "DAhqUg1_ykmS"
      },
      "execution_count": null,
      "outputs": []
    },
    {
      "cell_type": "code",
      "source": [
        "chipo_one_item = chipo[chipo.quantity == 1]\n",
        "price_per_item = chipo_one_item.groupby(\"item_name\")[\"item_price\"].min() \n",
        "\n",
        "print(price_per_item.sort_values(ascending = False)[-5:])"
      ],
      "metadata": {
        "colab": {
          "base_uri": "https://localhost:8080/"
        },
        "id": "I90s0JkP1IAQ",
        "outputId": "d05eb756-013e-4dc7-d755-aec3d6cfff32"
      },
      "execution_count": null,
      "outputs": [
        {
          "output_type": "stream",
          "name": "stdout",
          "text": [
            "item_name\n",
            "Chips                1.99\n",
            "Side of Chips        1.69\n",
            "Canned Soft Drink    1.25\n",
            "Canned Soda          1.09\n",
            "Bottled Water        1.09\n",
            "Name: item_price, dtype: float64\n"
          ]
        }
      ]
    },
    {
      "cell_type": "code",
      "source": [
        "price_per_item[-5:].plot.bar(rot=60)"
      ],
      "metadata": {
        "colab": {
          "base_uri": "https://localhost:8080/",
          "height": 379
        },
        "id": "aORBW3PsyuS0",
        "outputId": "e035e948-b3ae-4441-f0a7-af86360c008c"
      },
      "execution_count": null,
      "outputs": [
        {
          "output_type": "execute_result",
          "data": {
            "text/plain": [
              "<matplotlib.axes._subplots.AxesSubplot at 0x7f621d185410>"
            ]
          },
          "metadata": {},
          "execution_count": 39
        },
        {
          "output_type": "display_data",
          "data": {
            "text/plain": [
              "<Figure size 432x288 with 1 Axes>"
            ],
            "image/png": "[encoded data removed]"
          },
          "metadata": {
            "needs_background": "light"
          }
        }
      ]
    },
    {
      "cell_type": "markdown",
      "source": [
        "### **연습2: 공공 데이터 이용**\n",
        "공공 데이터 중 하나를 정해서 다운로드 받으시오. 다운로드 받은 데이터를 구글 드라이브에 업로드 후  앞에서 배운 코드들을 이용하여 (1) 기본적인 기술통계 정보, (2) 데이터 시각화를 통해 데이터를 탐색해 보시오. \n"
      ],
      "metadata": {
        "id": "gRtjG8TuaFbd"
      }
    },
    {
      "cell_type": "markdown",
      "source": [
        "[공공 데이터 링크](https://www.data.go.kr/data/15078148/fileData.do)"
      ],
      "metadata": {
        "id": "mQVuc35Pk8hm"
      }
    },
    {
      "cell_type": "code",
      "source": [
        "museum = pd.read_csv(\"/content/drive/My Drive/Colab Notebooks/itb/museum.csv\", encoding=\"cp949\")\n",
        "## 서울특별시_서울시립미술관 이용객 수 현황\n",
        "\n",
        "museum[\"연월\"] = museum[\"연월\"].astype(str) \n",
        "\n",
        "display(museum.head(10))\n",
        "print(museum.info())"
      ],
      "metadata": {
        "id": "kUPuoXlGkPNe",
        "colab": {
          "base_uri": "https://localhost:8080/",
          "height": 544
        },
        "outputId": "d54309c7-3eca-4e1d-d93f-09dc518dd66e"
      },
      "execution_count": null,
      "outputs": [
        {
          "output_type": "display_data",
          "data": {
            "text/plain": [
              "        연월   이용객 수\n",
              "0  2011-01  234587\n",
              "1  2011-02  171376\n",
              "2  2011-03  260687\n",
              "3  2011-04   56204\n",
              "4  2011-05  279310\n",
              "5  2011-06  178302\n",
              "6  2011-07   34784\n",
              "7  2011-08   79331\n",
              "8  2011-09   57239\n",
              "9  2011-10   76839"
            ],
            "text/html": [
              "\n",
              "  <div id=\"df-0f0af426-3845-4fee-850d-57c856baa205\">\n",
              "    <div class=\"colab-df-container\">\n",
              "      <div>\n",
              "<style scoped>\n",
              "    .dataframe tbody tr th:only-of-type {\n",
              "        vertical-align: middle;\n",
              "    }\n",
              "\n",
              "    .dataframe tbody tr th {\n",
              "        vertical-align: top;\n",
              "    }\n",
              "\n",
              "    .dataframe thead th {\n",
              "        text-align: right;\n",
              "    }\n",
              "</style>\n",
              "<table border=\"1\" class=\"dataframe\">\n",
              "  <thead>\n",
              "    <tr style=\"text-align: right;\">\n",
              "      <th></th>\n",
              "      <th>연월</th>\n",
              "      <th>이용객 수</th>\n",
              "    </tr>\n",
              "  </thead>\n",
              "  <tbody>\n",
              "    <tr>\n",
              "      <th>0</th>\n",
              "      <td>2011-01</td>\n",
              "      <td>234587</td>\n",
              "    </tr>\n",
              "    <tr>\n",
              "      <th>1</th>\n",
              "      <td>2011-02</td>\n",
              "      <td>171376</td>\n",
              "    </tr>\n",
              "    <tr>\n",
              "      <th>2</th>\n",
              "      <td>2011-03</td>\n",
              "      <td>260687</td>\n",
              "    </tr>\n",
              "    <tr>\n",
              "      <th>3</th>\n",
              "      <td>2011-04</td>\n",
              "      <td>56204</td>\n",
              "    </tr>\n",
              "    <tr>\n",
              "      <th>4</th>\n",
              "      <td>2011-05</td>\n",
              "      <td>279310</td>\n",
              "    </tr>\n",
              "    <tr>\n",
              "      <th>5</th>\n",
              "      <td>2011-06</td>\n",
              "      <td>178302</td>\n",
              "    </tr>\n",
              "    <tr>\n",
              "      <th>6</th>\n",
              "      <td>2011-07</td>\n",
              "      <td>34784</td>\n",
              "    </tr>\n",
              "    <tr>\n",
              "      <th>7</th>\n",
              "      <td>2011-08</td>\n",
              "      <td>79331</td>\n",
              "    </tr>\n",
              "    <tr>\n",
              "      <th>8</th>\n",
              "      <td>2011-09</td>\n",
              "      <td>57239</td>\n",
              "    </tr>\n",
              "    <tr>\n",
              "      <th>9</th>\n",
              "      <td>2011-10</td>\n",
              "      <td>76839</td>\n",
              "    </tr>\n",
              "  </tbody>\n",
              "</table>\n",
              "</div>\n",
              "      <button class=\"colab-df-convert\" onclick=\"convertToInteractive('df-0f0af426-3845-4fee-850d-57c856baa205')\"\n",
              "              title=\"Convert this dataframe to an interactive table.\"\n",
              "              style=\"display:none;\">\n",
              "        \n",
              "  <svg xmlns=\"http://www.w3.org/2000/svg\" height=\"24px\"viewBox=\"0 0 24 24\"\n",
              "       width=\"24px\">\n",
              "    <path d=\"M0 0h24v24H0V0z\" fill=\"none\"/>\n",
              "    <path d=\"M18.56 5.44l.94 2.06.94-2.06 2.06-.94-2.06-.94-.94-2.06-.94 2.06-2.06.94zm-11 1L8.5 8.5l.94-2.06 2.06-.94-2.06-.94L8.5 2.5l-.94 2.06-2.06.94zm10 10l.94 2.06.94-2.06 2.06-.94-2.06-.94-.94-2.06-.94 2.06-2.06.94z\"/><path d=\"M17.41 7.96l-1.37-1.37c-.4-.4-.92-.59-1.43-.59-.52 0-1.04.2-1.43.59L10.3 9.45l-7.72 7.72c-.78.78-.78 2.05 0 2.83L4 21.41c.39.39.9.59 1.41.59.51 0 1.02-.2 1.41-.59l7.78-7.78 2.81-2.81c.8-.78.8-2.07 0-2.86zM5.41 20L4 18.59l7.72-7.72 1.47 1.35L5.41 20z\"/>\n",
              "  </svg>\n",
              "      </button>\n",
              "      \n",
              "  <style>\n",
              "    .colab-df-container {\n",
              "      display:flex;\n",
              "      flex-wrap:wrap;\n",
              "      gap: 12px;\n",
              "    }\n",
              "\n",
              "    .colab-df-convert {\n",
              "      background-color: #E8F0FE;\n",
              "      border: none;\n",
              "      border-radius: 50%;\n",
              "      cursor: pointer;\n",
              "      display: none;\n",
              "      fill: #1967D2;\n",
              "      height: 32px;\n",
              "      padding: 0 0 0 0;\n",
              "      width: 32px;\n",
              "    }\n",
              "\n",
              "    .colab-df-convert:hover {\n",
              "      background-color: #E2EBFA;\n",
              "      box-shadow: 0px 1px 2px rgba(60, 64, 67, 0.3), 0px 1px 3px 1px rgba(60, 64, 67, 0.15);\n",
              "      fill: #174EA6;\n",
              "    }\n",
              "\n",
              "    [theme=dark] .colab-df-convert {\n",
              "      background-color: #3B4455;\n",
              "      fill: #D2E3FC;\n",
              "    }\n",
              "\n",
              "    [theme=dark] .colab-df-convert:hover {\n",
              "      background-color: #434B5C;\n",
              "      box-shadow: 0px 1px 3px 1px rgba(0, 0, 0, 0.15);\n",
              "      filter: drop-shadow(0px 1px 2px rgba(0, 0, 0, 0.3));\n",
              "      fill: #FFFFFF;\n",
              "    }\n",
              "  </style>\n",
              "\n",
              "      <script>\n",
              "        const buttonEl =\n",
              "          document.querySelector('#df-0f0af426-3845-4fee-850d-57c856baa205 button.colab-df-convert');\n",
              "        buttonEl.style.display =\n",
              "          google.colab.kernel.accessAllowed ? 'block' : 'none';\n",
              "\n",
              "        async function convertToInteractive(key) {\n",
              "          const element = document.querySelector('#df-0f0af426-3845-4fee-850d-57c856baa205');\n",
              "          const dataTable =\n",
              "            await google.colab.kernel.invokeFunction('convertToInteractive',\n",
              "                                                     [key], {});\n",
              "          if (!dataTable) return;\n",
              "\n",
              "          const docLinkHtml = 'Like what you see? Visit the ' +\n",
              "            '<a target=\"_blank\" href=https://colab.research.google.com/notebooks/data_table.ipynb>data table notebook</a>'\n",
              "            + ' to learn more about interactive tables.';\n",
              "          element.innerHTML = '';\n",
              "          dataTable['output_type'] = 'display_data';\n",
              "          await google.colab.output.renderOutput(dataTable, element);\n",
              "          const docLink = document.createElement('div');\n",
              "          docLink.innerHTML = docLinkHtml;\n",
              "          element.appendChild(docLink);\n",
              "        }\n",
              "      </script>\n",
              "    </div>\n",
              "  </div>\n",
              "  "
            ]
          },
          "metadata": {}
        },
        {
          "output_type": "stream",
          "name": "stdout",
          "text": [
            "<class 'pandas.core.frame.DataFrame'>\n",
            "RangeIndex: 120 entries, 0 to 119\n",
            "Data columns (total 2 columns):\n",
            " #   Column  Non-Null Count  Dtype \n",
            "---  ------  --------------  ----- \n",
            " 0   연월      120 non-null    object\n",
            " 1   이용객 수   120 non-null    int64 \n",
            "dtypes: int64(1), object(1)\n",
            "memory usage: 2.0+ KB\n",
            "None\n"
          ]
        }
      ]
    },
    {
      "cell_type": "code",
      "source": [
        "print(museum.describe())"
      ],
      "metadata": {
        "colab": {
          "base_uri": "https://localhost:8080/"
        },
        "id": "Ph5nJfhqs5k_",
        "outputId": "4334c597-6051-4547-e13f-6c1f14bf7629"
      },
      "execution_count": null,
      "outputs": [
        {
          "output_type": "stream",
          "name": "stdout",
          "text": [
            "               이용객 수\n",
            "count     120.000000\n",
            "mean   136192.900000\n",
            "std     72264.000703\n",
            "min         0.000000\n",
            "25%     94601.000000\n",
            "50%    133977.000000\n",
            "75%    167761.500000\n",
            "max    384284.000000\n"
          ]
        }
      ]
    },
    {
      "cell_type": "code",
      "source": [
        "## 이용객 수가 가장 많은 연월 상위 20\n",
        "visitor = museum.groupby(\"연월\")[\"이용객 수\"].min()\n",
        "print(visitor.sort_values(ascending = False)[:20]) "
      ],
      "metadata": {
        "colab": {
          "base_uri": "https://localhost:8080/"
        },
        "id": "hnywjER019fc",
        "outputId": "326b9503-b52d-43a3-e964-0bdd61dc0d70"
      },
      "execution_count": 68,
      "outputs": [
        {
          "output_type": "stream",
          "name": "stdout",
          "text": [
            "연월\n",
            "2013-09    384284\n",
            "2019-07    325318\n",
            "2013-08    309217\n",
            "2011-05    279310\n",
            "2019-08    278993\n",
            "2017-08    275547\n",
            "2012-07    265630\n",
            "2017-07    264731\n",
            "2012-08    263250\n",
            "2011-03    260687\n",
            "2016-07    246683\n",
            "2017-06    236393\n",
            "2011-01    234587\n",
            "2013-10    231982\n",
            "2012-12    225727\n",
            "2016-05    224462\n",
            "2016-08    205932\n",
            "2013-11    204426\n",
            "2016-06    196737\n",
            "2015-08    196562\n",
            "Name: 이용객 수, dtype: int64\n"
          ]
        }
      ]
    },
    {
      "cell_type": "code",
      "source": [],
      "metadata": {
        "id": "vbTbn0U65RvO"
      },
      "execution_count": null,
      "outputs": []
    }
  ]
}