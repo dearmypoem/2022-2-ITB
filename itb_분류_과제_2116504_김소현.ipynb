{
  "nbformat": 4,
  "nbformat_minor": 0,
  "metadata": {
    "colab": {
      "provenance": [],
      "toc_visible": true,
      "authorship_tag": "ABX9TyP9PaU4VVjF7JLVxQksI58F",
      "include_colab_link": true
    },
    "kernelspec": {
      "name": "python3",
      "display_name": "Python 3"
    },
    "language_info": {
      "name": "python"
    }
  },
  "cells": [
    {
      "cell_type": "markdown",
      "metadata": {
        "id": "view-in-github",
        "colab_type": "text"
      },
      "source": [
        "<a href=\"https://colab.research.google.com/github/dearmypoem/2022-2-ITB/blob/main/itb_%EB%B6%84%EB%A5%98_%EA%B3%BC%EC%A0%9C_2116504_%EA%B9%80%EC%86%8C%ED%98%84.ipynb\" target=\"_parent\"><img src=\"https://colab.research.google.com/assets/colab-badge.svg\" alt=\"Open In Colab\"/></a>"
      ]
    },
    {
      "cell_type": "markdown",
      "source": [
        "## **독립변수들에 의한 당뇨 여부(종속변수) 분류**"
      ],
      "metadata": {
        "id": "fdxCtUW9_M7V"
      }
    },
    {
      "cell_type": "code",
      "source": [
        "!pip install mglearn\n",
        "!pip install --upgrade joblib==1.1.0\n",
        "import mglearn\n",
        "\n",
        "%matplotlib inline\n",
        "import pandas as pd\n",
        "import numpy as np\n",
        "import seaborn as sns\n",
        "import matplotlib.pyplot as plt"
      ],
      "metadata": {
        "colab": {
          "base_uri": "https://localhost:8080/"
        },
        "id": "6UmjZ1Inls8v",
        "outputId": "3540164b-d2b7-4314-926c-739b6d7b8913"
      },
      "execution_count": null,
      "outputs": [
        {
          "output_type": "stream",
          "name": "stdout",
          "text": [
            "Looking in indexes: https://pypi.org/simple, https://us-python.pkg.dev/colab-wheels/public/simple/\n",
            "Requirement already satisfied: mglearn in /usr/local/lib/python3.7/dist-packages (0.1.9)\n",
            "Requirement already satisfied: imageio in /usr/local/lib/python3.7/dist-packages (from mglearn) (2.9.0)\n",
            "Requirement already satisfied: numpy in /usr/local/lib/python3.7/dist-packages (from mglearn) (1.21.6)\n",
            "Requirement already satisfied: joblib in /usr/local/lib/python3.7/dist-packages (from mglearn) (1.1.0)\n",
            "Requirement already satisfied: matplotlib in /usr/local/lib/python3.7/dist-packages (from mglearn) (3.2.2)\n",
            "Requirement already satisfied: pillow in /usr/local/lib/python3.7/dist-packages (from mglearn) (7.1.2)\n",
            "Requirement already satisfied: pandas in /usr/local/lib/python3.7/dist-packages (from mglearn) (1.3.5)\n",
            "Requirement already satisfied: scikit-learn in /usr/local/lib/python3.7/dist-packages (from mglearn) (1.0.2)\n",
            "Requirement already satisfied: cycler in /usr/local/lib/python3.7/dist-packages (from mglearn) (0.11.0)\n",
            "Requirement already satisfied: pyparsing!=2.0.4,!=2.1.2,!=2.1.6,>=2.0.1 in /usr/local/lib/python3.7/dist-packages (from matplotlib->mglearn) (3.0.9)\n",
            "Requirement already satisfied: python-dateutil>=2.1 in /usr/local/lib/python3.7/dist-packages (from matplotlib->mglearn) (2.8.2)\n",
            "Requirement already satisfied: kiwisolver>=1.0.1 in /usr/local/lib/python3.7/dist-packages (from matplotlib->mglearn) (1.4.4)\n",
            "Requirement already satisfied: typing-extensions in /usr/local/lib/python3.7/dist-packages (from kiwisolver>=1.0.1->matplotlib->mglearn) (4.1.1)\n",
            "Requirement already satisfied: six>=1.5 in /usr/local/lib/python3.7/dist-packages (from python-dateutil>=2.1->matplotlib->mglearn) (1.15.0)\n",
            "Requirement already satisfied: pytz>=2017.3 in /usr/local/lib/python3.7/dist-packages (from pandas->mglearn) (2022.6)\n",
            "Requirement already satisfied: threadpoolctl>=2.0.0 in /usr/local/lib/python3.7/dist-packages (from scikit-learn->mglearn) (3.1.0)\n",
            "Requirement already satisfied: scipy>=1.1.0 in /usr/local/lib/python3.7/dist-packages (from scikit-learn->mglearn) (1.7.3)\n",
            "Looking in indexes: https://pypi.org/simple, https://us-python.pkg.dev/colab-wheels/public/simple/\n",
            "Requirement already satisfied: joblib==1.1.0 in /usr/local/lib/python3.7/dist-packages (1.1.0)\n"
          ]
        }
      ]
    },
    {
      "cell_type": "code",
      "source": [
        "from google.colab import drive\n",
        "drive.mount(\"/content/drive\")"
      ],
      "metadata": {
        "id": "vfddhEKunG4e",
        "colab": {
          "base_uri": "https://localhost:8080/"
        },
        "outputId": "8c6c42f9-b3a8-490c-d256-a1e3457178f8"
      },
      "execution_count": null,
      "outputs": [
        {
          "output_type": "stream",
          "name": "stdout",
          "text": [
            "Drive already mounted at /content/drive; to attempt to forcibly remount, call drive.mount(\"/content/drive\", force_remount=True).\n"
          ]
        }
      ]
    },
    {
      "cell_type": "code",
      "source": [
        "## 인코딩으로 해결되지 않는 한글 깨짐 현상으로 인한 폰트 설치\n",
        "\n",
        "!sudo apt-get install -y fonts-nanum\n",
        "!sudo fc-cache -fv\n",
        "!rm ~/.cache/matplotlib -rf"
      ],
      "metadata": {
        "colab": {
          "base_uri": "https://localhost:8080/"
        },
        "id": "hngD4B19rshe",
        "outputId": "e1cbc58f-3fcf-4ab4-db5c-c15685837fd7"
      },
      "execution_count": 136,
      "outputs": [
        {
          "output_type": "stream",
          "name": "stdout",
          "text": [
            "Reading package lists... Done\n",
            "Building dependency tree       \n",
            "Reading state information... Done\n",
            "fonts-nanum is already the newest version (20170925-1).\n",
            "The following package was automatically installed and is no longer required:\n",
            "  libnvidia-common-460\n",
            "Use 'sudo apt autoremove' to remove it.\n",
            "0 upgraded, 0 newly installed, 0 to remove and 5 not upgraded.\n",
            "/usr/share/fonts: caching, new cache contents: 0 fonts, 1 dirs\n",
            "/usr/share/fonts/truetype: caching, new cache contents: 0 fonts, 3 dirs\n",
            "/usr/share/fonts/truetype/humor-sans: caching, new cache contents: 1 fonts, 0 dirs\n",
            "/usr/share/fonts/truetype/liberation: caching, new cache contents: 16 fonts, 0 dirs\n",
            "/usr/share/fonts/truetype/nanum: caching, new cache contents: 10 fonts, 0 dirs\n",
            "/usr/local/share/fonts: caching, new cache contents: 0 fonts, 0 dirs\n",
            "/root/.local/share/fonts: skipping, no such directory\n",
            "/root/.fonts: skipping, no such directory\n",
            "/var/cache/fontconfig: cleaning cache directory\n",
            "/root/.cache/fontconfig: not cleaning non-existent cache directory\n",
            "/root/.fontconfig: not cleaning non-existent cache directory\n",
            "fc-cache: succeeded\n"
          ]
        }
      ]
    },
    {
      "cell_type": "code",
      "source": [
        "## 폰트 적용\n",
        "import matplotlib.pyplot as plt\n",
        "plt.rc(\"font\", family=\"NanumBarunGothic\") "
      ],
      "metadata": {
        "id": "CZrdmf9Nrupw"
      },
      "execution_count": 137,
      "outputs": []
    },
    {
      "cell_type": "code",
      "source": [
        "health = pd.read_csv(\"/content/drive/My Drive/Colab Notebooks/ITB/health_data.csv\", encoding = \"UTF8\")\n",
        "\n",
        "## 엑셀로 데이터 전처리(일부 이전 시각화 과제와 동일)\n",
        "\n",
        "## 결측 데이터가 많은 행/열, 같은 값만 제시된 일자 관련 항목 제거\n",
        "## 흡연상태, 음주여부 결측치는 최빈값으로 보간\n",
        "## 신장 데이터, 체중 데이터 결합하여 BMI 항목 추가\n",
        "## 식전혈당 데이터 이용하여 당뇨여부 항목 추가, 수치가 126보다 높은 경우 당뇨여부 1 부여\n",
        "## 흡연상태(아니오, 예), 음주여부(아니오, 예)는 (0,1)로 대체, 흡연상태의 'NotNow'는 2로 대체\n",
        "\n",
        "display(health.head())\n",
        "print(health.info())\n",
        "print(health.describe())"
      ],
      "metadata": {
        "id": "rALBRsWEj3lS",
        "colab": {
          "base_uri": "https://localhost:8080/",
          "height": 1000
        },
        "outputId": "066cca99-2ac5-4fa2-89ad-c674db3c1a44"
      },
      "execution_count": 138,
      "outputs": [
        {
          "output_type": "display_data",
          "data": {
            "text/plain": [
              "   신장(5Cm단위)  체중(5Kg 단위)  흡연상태  음주여부        BMI  허리둘레  수축기혈압  이완기혈압  \\\n",
              "0        165          60     0     0  22.038567  72.1    127     79   \n",
              "1        150          65     0     0  28.888889  81.0    110     73   \n",
              "2        155          55     0     0  22.892820  70.0    123     80   \n",
              "3        160          70     0     0  27.343750  90.8    134     84   \n",
              "4        155          50     0     0  20.811655  75.2    144     89   \n",
              "\n",
              "   식전혈당(공복혈당)  당뇨여부   혈색소  혈청크레아티닌  (혈청지오티)AST  (혈청지오티)ALT  감마지티피  \n",
              "0          90     0  15.0      1.1          21          27     21  \n",
              "1          87     0  12.7      0.5          18          15     15  \n",
              "2         102     0  12.8      0.7          27          25      7  \n",
              "3         146     1  16.4      1.2          65          97     72  \n",
              "4         110     0  12.4      0.7          18          17     14  "
            ],
            "text/html": [
              "\n",
              "  <div id=\"df-39d34e3c-24f5-4f55-9d57-7dc1cc4acd48\">\n",
              "    <div class=\"colab-df-container\">\n",
              "      <div>\n",
              "<style scoped>\n",
              "    .dataframe tbody tr th:only-of-type {\n",
              "        vertical-align: middle;\n",
              "    }\n",
              "\n",
              "    .dataframe tbody tr th {\n",
              "        vertical-align: top;\n",
              "    }\n",
              "\n",
              "    .dataframe thead th {\n",
              "        text-align: right;\n",
              "    }\n",
              "</style>\n",
              "<table border=\"1\" class=\"dataframe\">\n",
              "  <thead>\n",
              "    <tr style=\"text-align: right;\">\n",
              "      <th></th>\n",
              "      <th>신장(5Cm단위)</th>\n",
              "      <th>체중(5Kg 단위)</th>\n",
              "      <th>흡연상태</th>\n",
              "      <th>음주여부</th>\n",
              "      <th>BMI</th>\n",
              "      <th>허리둘레</th>\n",
              "      <th>수축기혈압</th>\n",
              "      <th>이완기혈압</th>\n",
              "      <th>식전혈당(공복혈당)</th>\n",
              "      <th>당뇨여부</th>\n",
              "      <th>혈색소</th>\n",
              "      <th>혈청크레아티닌</th>\n",
              "      <th>(혈청지오티)AST</th>\n",
              "      <th>(혈청지오티)ALT</th>\n",
              "      <th>감마지티피</th>\n",
              "    </tr>\n",
              "  </thead>\n",
              "  <tbody>\n",
              "    <tr>\n",
              "      <th>0</th>\n",
              "      <td>165</td>\n",
              "      <td>60</td>\n",
              "      <td>0</td>\n",
              "      <td>0</td>\n",
              "      <td>22.038567</td>\n",
              "      <td>72.1</td>\n",
              "      <td>127</td>\n",
              "      <td>79</td>\n",
              "      <td>90</td>\n",
              "      <td>0</td>\n",
              "      <td>15.0</td>\n",
              "      <td>1.1</td>\n",
              "      <td>21</td>\n",
              "      <td>27</td>\n",
              "      <td>21</td>\n",
              "    </tr>\n",
              "    <tr>\n",
              "      <th>1</th>\n",
              "      <td>150</td>\n",
              "      <td>65</td>\n",
              "      <td>0</td>\n",
              "      <td>0</td>\n",
              "      <td>28.888889</td>\n",
              "      <td>81.0</td>\n",
              "      <td>110</td>\n",
              "      <td>73</td>\n",
              "      <td>87</td>\n",
              "      <td>0</td>\n",
              "      <td>12.7</td>\n",
              "      <td>0.5</td>\n",
              "      <td>18</td>\n",
              "      <td>15</td>\n",
              "      <td>15</td>\n",
              "    </tr>\n",
              "    <tr>\n",
              "      <th>2</th>\n",
              "      <td>155</td>\n",
              "      <td>55</td>\n",
              "      <td>0</td>\n",
              "      <td>0</td>\n",
              "      <td>22.892820</td>\n",
              "      <td>70.0</td>\n",
              "      <td>123</td>\n",
              "      <td>80</td>\n",
              "      <td>102</td>\n",
              "      <td>0</td>\n",
              "      <td>12.8</td>\n",
              "      <td>0.7</td>\n",
              "      <td>27</td>\n",
              "      <td>25</td>\n",
              "      <td>7</td>\n",
              "    </tr>\n",
              "    <tr>\n",
              "      <th>3</th>\n",
              "      <td>160</td>\n",
              "      <td>70</td>\n",
              "      <td>0</td>\n",
              "      <td>0</td>\n",
              "      <td>27.343750</td>\n",
              "      <td>90.8</td>\n",
              "      <td>134</td>\n",
              "      <td>84</td>\n",
              "      <td>146</td>\n",
              "      <td>1</td>\n",
              "      <td>16.4</td>\n",
              "      <td>1.2</td>\n",
              "      <td>65</td>\n",
              "      <td>97</td>\n",
              "      <td>72</td>\n",
              "    </tr>\n",
              "    <tr>\n",
              "      <th>4</th>\n",
              "      <td>155</td>\n",
              "      <td>50</td>\n",
              "      <td>0</td>\n",
              "      <td>0</td>\n",
              "      <td>20.811655</td>\n",
              "      <td>75.2</td>\n",
              "      <td>144</td>\n",
              "      <td>89</td>\n",
              "      <td>110</td>\n",
              "      <td>0</td>\n",
              "      <td>12.4</td>\n",
              "      <td>0.7</td>\n",
              "      <td>18</td>\n",
              "      <td>17</td>\n",
              "      <td>14</td>\n",
              "    </tr>\n",
              "  </tbody>\n",
              "</table>\n",
              "</div>\n",
              "      <button class=\"colab-df-convert\" onclick=\"convertToInteractive('df-39d34e3c-24f5-4f55-9d57-7dc1cc4acd48')\"\n",
              "              title=\"Convert this dataframe to an interactive table.\"\n",
              "              style=\"display:none;\">\n",
              "        \n",
              "  <svg xmlns=\"http://www.w3.org/2000/svg\" height=\"24px\"viewBox=\"0 0 24 24\"\n",
              "       width=\"24px\">\n",
              "    <path d=\"M0 0h24v24H0V0z\" fill=\"none\"/>\n",
              "    <path d=\"M18.56 5.44l.94 2.06.94-2.06 2.06-.94-2.06-.94-.94-2.06-.94 2.06-2.06.94zm-11 1L8.5 8.5l.94-2.06 2.06-.94-2.06-.94L8.5 2.5l-.94 2.06-2.06.94zm10 10l.94 2.06.94-2.06 2.06-.94-2.06-.94-.94-2.06-.94 2.06-2.06.94z\"/><path d=\"M17.41 7.96l-1.37-1.37c-.4-.4-.92-.59-1.43-.59-.52 0-1.04.2-1.43.59L10.3 9.45l-7.72 7.72c-.78.78-.78 2.05 0 2.83L4 21.41c.39.39.9.59 1.41.59.51 0 1.02-.2 1.41-.59l7.78-7.78 2.81-2.81c.8-.78.8-2.07 0-2.86zM5.41 20L4 18.59l7.72-7.72 1.47 1.35L5.41 20z\"/>\n",
              "  </svg>\n",
              "      </button>\n",
              "      \n",
              "  <style>\n",
              "    .colab-df-container {\n",
              "      display:flex;\n",
              "      flex-wrap:wrap;\n",
              "      gap: 12px;\n",
              "    }\n",
              "\n",
              "    .colab-df-convert {\n",
              "      background-color: #E8F0FE;\n",
              "      border: none;\n",
              "      border-radius: 50%;\n",
              "      cursor: pointer;\n",
              "      display: none;\n",
              "      fill: #1967D2;\n",
              "      height: 32px;\n",
              "      padding: 0 0 0 0;\n",
              "      width: 32px;\n",
              "    }\n",
              "\n",
              "    .colab-df-convert:hover {\n",
              "      background-color: #E2EBFA;\n",
              "      box-shadow: 0px 1px 2px rgba(60, 64, 67, 0.3), 0px 1px 3px 1px rgba(60, 64, 67, 0.15);\n",
              "      fill: #174EA6;\n",
              "    }\n",
              "\n",
              "    [theme=dark] .colab-df-convert {\n",
              "      background-color: #3B4455;\n",
              "      fill: #D2E3FC;\n",
              "    }\n",
              "\n",
              "    [theme=dark] .colab-df-convert:hover {\n",
              "      background-color: #434B5C;\n",
              "      box-shadow: 0px 1px 3px 1px rgba(0, 0, 0, 0.15);\n",
              "      filter: drop-shadow(0px 1px 2px rgba(0, 0, 0, 0.3));\n",
              "      fill: #FFFFFF;\n",
              "    }\n",
              "  </style>\n",
              "\n",
              "      <script>\n",
              "        const buttonEl =\n",
              "          document.querySelector('#df-39d34e3c-24f5-4f55-9d57-7dc1cc4acd48 button.colab-df-convert');\n",
              "        buttonEl.style.display =\n",
              "          google.colab.kernel.accessAllowed ? 'block' : 'none';\n",
              "\n",
              "        async function convertToInteractive(key) {\n",
              "          const element = document.querySelector('#df-39d34e3c-24f5-4f55-9d57-7dc1cc4acd48');\n",
              "          const dataTable =\n",
              "            await google.colab.kernel.invokeFunction('convertToInteractive',\n",
              "                                                     [key], {});\n",
              "          if (!dataTable) return;\n",
              "\n",
              "          const docLinkHtml = 'Like what you see? Visit the ' +\n",
              "            '<a target=\"_blank\" href=https://colab.research.google.com/notebooks/data_table.ipynb>data table notebook</a>'\n",
              "            + ' to learn more about interactive tables.';\n",
              "          element.innerHTML = '';\n",
              "          dataTable['output_type'] = 'display_data';\n",
              "          await google.colab.output.renderOutput(dataTable, element);\n",
              "          const docLink = document.createElement('div');\n",
              "          docLink.innerHTML = docLinkHtml;\n",
              "          element.appendChild(docLink);\n",
              "        }\n",
              "      </script>\n",
              "    </div>\n",
              "  </div>\n",
              "  "
            ]
          },
          "metadata": {}
        },
        {
          "output_type": "stream",
          "name": "stdout",
          "text": [
            "<class 'pandas.core.frame.DataFrame'>\n",
            "RangeIndex: 9912 entries, 0 to 9911\n",
            "Data columns (total 15 columns):\n",
            " #   Column      Non-Null Count  Dtype  \n",
            "---  ------      --------------  -----  \n",
            " 0   신장(5Cm단위)   9912 non-null   int64  \n",
            " 1   체중(5Kg 단위)  9912 non-null   int64  \n",
            " 2   흡연상태        9912 non-null   int64  \n",
            " 3   음주여부        9912 non-null   int64  \n",
            " 4   BMI         9912 non-null   float64\n",
            " 5   허리둘레        9912 non-null   float64\n",
            " 6   수축기혈압       9912 non-null   int64  \n",
            " 7   이완기혈압       9912 non-null   int64  \n",
            " 8   식전혈당(공복혈당)  9912 non-null   int64  \n",
            " 9   당뇨여부        9912 non-null   int64  \n",
            " 10  혈색소         9912 non-null   float64\n",
            " 11  혈청크레아티닌     9912 non-null   float64\n",
            " 12  (혈청지오티)AST  9912 non-null   int64  \n",
            " 13  (혈청지오티)ALT  9912 non-null   int64  \n",
            " 14  감마지티피       9912 non-null   int64  \n",
            "dtypes: float64(4), int64(11)\n",
            "memory usage: 1.1 MB\n",
            "None\n",
            "         신장(5Cm단위)   체중(5Kg 단위)         흡연상태         음주여부          BMI  \\\n",
            "count  9912.000000  9912.000000  9912.000000  9912.000000  9912.000000   \n",
            "mean    161.056800    63.093220     0.571832     0.585654    24.204588   \n",
            "std       9.172475    12.206237     0.794927     0.492634     3.486380   \n",
            "min     130.000000    30.000000     0.000000     0.000000    13.333333   \n",
            "25%     155.000000    55.000000     0.000000     0.000000    22.038567   \n",
            "50%     160.000000    60.000000     0.000000     1.000000    23.875115   \n",
            "75%     170.000000    70.000000     1.000000     1.000000    26.122449   \n",
            "max     195.000000   130.000000     2.000000     1.000000    43.704475   \n",
            "\n",
            "              허리둘레        수축기혈압        이완기혈압   식전혈당(공복혈당)         당뇨여부  \\\n",
            "count  9912.000000  9912.000000  9912.000000  9912.000000  9912.000000   \n",
            "mean     82.343362   124.669693    76.789750   103.777542     0.096348   \n",
            "std       9.559553    14.629865     9.931527    24.649816     0.295083   \n",
            "min      53.000000    77.000000    40.000000    55.000000     0.000000   \n",
            "25%      76.000000   115.000000    70.000000    91.000000     0.000000   \n",
            "50%      82.000000   124.000000    77.000000    99.000000     0.000000   \n",
            "75%      88.625000   134.000000    83.000000   109.000000     0.000000   \n",
            "max     134.000000   200.000000   130.000000   473.000000     1.000000   \n",
            "\n",
            "               혈색소      혈청크레아티닌  (혈청지오티)AST   (혈청지오티)ALT        감마지티피  \n",
            "count  9912.000000  9912.000000  9912.00000  9912.000000  9912.000000  \n",
            "mean     14.214255     0.848484    27.58979    26.789851    38.098668  \n",
            "std       1.555386     0.301012    17.88442    23.735687    58.184579  \n",
            "min       5.100000     0.050000     3.00000     2.000000     3.000000  \n",
            "25%      13.200000     0.700000    20.00000    16.000000    16.000000  \n",
            "50%      14.200000     0.800000    24.00000    21.000000    24.000000  \n",
            "75%      15.300000     1.000000    30.00000    31.000000    39.000000  \n",
            "max      20.000000     9.200000   692.00000  1146.000000  2322.000000  \n"
          ]
        }
      ]
    },
    {
      "cell_type": "markdown",
      "source": [
        "# 의사결정나무"
      ],
      "metadata": {
        "id": "brObkuk-5rbk"
      }
    },
    {
      "cell_type": "code",
      "source": [
        "from sklearn.tree import DecisionTreeClassifier\n",
        "from sklearn.model_selection import train_test_split\n",
        "\n",
        "X = health.iloc[:, 4:8]\n",
        "y = health.iloc[:, 9]\n",
        "\n",
        "X_train, X_test, y_train, y_test = train_test_split(X, y, test_size = 0.25, random_state = 42)\n",
        "\n",
        "tree = DecisionTreeClassifier(random_state=0) \n",
        "tree.fit(X_train, y_train)\n",
        "print(\"학습용 데이터 정확도: {:.3f}\".format(tree.score(X_train, y_train)))\n",
        "print(\"시험용 데이터 정확도: {:.3f}\".format(tree.score(X_test, y_test)))"
      ],
      "metadata": {
        "colab": {
          "base_uri": "https://localhost:8080/"
        },
        "id": "Bi1RXFlMPmEr",
        "outputId": "3b32a7a9-c663-4225-8edc-f90f08447a4b"
      },
      "execution_count": 139,
      "outputs": [
        {
          "output_type": "stream",
          "name": "stdout",
          "text": [
            "학습용 데이터 정확도: 0.998\n",
            "시험용 데이터 정확도: 0.817\n"
          ]
        }
      ]
    },
    {
      "cell_type": "code",
      "source": [
        "## 파라미터 변경\n",
        "\n",
        "tree = DecisionTreeClassifier(max_depth=4, random_state=0)\n",
        "tree.fit(X_train, y_train)\n",
        "\n",
        "print(\"학습용 데이터 정확도: {:.3f}\".format(tree.score(X_train, y_train)))\n",
        "print(\"시험용 데이터 정확도: {:.3f}\".format(tree.score(X_test, y_test)))"
      ],
      "metadata": {
        "colab": {
          "base_uri": "https://localhost:8080/"
        },
        "id": "CQM6BL440hvk",
        "outputId": "a2647c76-3231-4cc3-d71d-c2a318be0f7f"
      },
      "execution_count": 140,
      "outputs": [
        {
          "output_type": "stream",
          "name": "stdout",
          "text": [
            "학습용 데이터 정확도: 0.905\n",
            "시험용 데이터 정확도: 0.900\n"
          ]
        }
      ]
    },
    {
      "cell_type": "code",
      "source": [
        "#graphviz 라이브러리를 이용하여 의사결정나무 그리기 \n",
        "from sklearn.tree import export_graphviz\n",
        "import graphviz\n",
        "\n",
        "# filled = True: 색상의 진하기로 클래스를 나타냄, impurity: 불순도 계산값 보여주기 옵션\n",
        "export_graphviz(tree, out_file=\"tree.dot\", class_names=[\"0\", \"1\"],\n",
        "                feature_names=health.columns[4:8], impurity=False, filled=True)\n",
        "\n",
        "with open(\"tree.dot\") as f:\n",
        "    dot_graph = f.read()\n",
        "\n",
        "display(graphviz.Source(dot_graph))"
      ],
      "metadata": {
        "colab": {
          "base_uri": "https://localhost:8080/",
          "height": 676
        },
        "id": "H8HPCbIKRhah",
        "outputId": "19b25c15-bdd3-4f44-ac29-a077ff20ce0e"
      },
      "execution_count": 141,
      "outputs": [
        {
          "output_type": "display_data",
          "data": {
            "text/plain": [
              "<graphviz.files.Source at 0x7f9216eb4c10>"
            ],
            "image/svg+xml": "<?xml version=\"1.0\" encoding=\"UTF-8\" standalone=\"no\"?>\n<!DOCTYPE svg PUBLIC \"-//W3C//DTD SVG 1.1//EN\"\n \"http://www.w3.org/Graphics/SVG/1.1/DTD/svg11.dtd\">\n<!-- Generated by graphviz version 2.40.1 (20161225.0304)\n -->\n<!-- Title: Tree Pages: 1 -->\n<svg width=\"2143pt\" height=\"477pt\"\n viewBox=\"0.00 0.00 2142.50 477.00\" xmlns=\"http://www.w3.org/2000/svg\" xmlns:xlink=\"http://www.w3.org/1999/xlink\">\n<g id=\"graph0\" class=\"graph\" transform=\"scale(1 1) rotate(0) translate(4 473)\">\n<title>Tree</title>\n<polygon fill=\"#ffffff\" stroke=\"transparent\" points=\"-4,4 -4,-473 2138.5,-473 2138.5,4 -4,4\"/>\n<!-- 0 -->\n<g id=\"node1\" class=\"node\">\n<title>0</title>\n<polygon fill=\"#e88e4e\" stroke=\"#000000\" points=\"1077,-469 937,-469 937,-401 1077,-401 1077,-469\"/>\n<text text-anchor=\"middle\" x=\"1007\" y=\"-453.8\" font-family=\"Helvetica,sans-Serif\" font-size=\"14.00\" fill=\"#000000\">허리둘레 &lt;= 75.05</text>\n<text text-anchor=\"middle\" x=\"1007\" y=\"-438.8\" font-family=\"Helvetica,sans-Serif\" font-size=\"14.00\" fill=\"#000000\">samples = 7434</text>\n<text text-anchor=\"middle\" x=\"1007\" y=\"-423.8\" font-family=\"Helvetica,sans-Serif\" font-size=\"14.00\" fill=\"#000000\">value = [6725, 709]</text>\n<text text-anchor=\"middle\" x=\"1007\" y=\"-408.8\" font-family=\"Helvetica,sans-Serif\" font-size=\"14.00\" fill=\"#000000\">class = 0</text>\n</g>\n<!-- 1 -->\n<g id=\"node2\" class=\"node\">\n<title>1</title>\n<polygon fill=\"#e6853f\" stroke=\"#000000\" points=\"839.5,-365 694.5,-365 694.5,-297 839.5,-297 839.5,-365\"/>\n<text text-anchor=\"middle\" x=\"767\" y=\"-349.8\" font-family=\"Helvetica,sans-Serif\" font-size=\"14.00\" fill=\"#000000\">수축기혈압 &lt;= 148.5</text>\n<text text-anchor=\"middle\" x=\"767\" y=\"-334.8\" font-family=\"Helvetica,sans-Serif\" font-size=\"14.00\" fill=\"#000000\">samples = 1801</text>\n<text text-anchor=\"middle\" x=\"767\" y=\"-319.8\" font-family=\"Helvetica,sans-Serif\" font-size=\"14.00\" fill=\"#000000\">value = [1747, 54]</text>\n<text text-anchor=\"middle\" x=\"767\" y=\"-304.8\" font-family=\"Helvetica,sans-Serif\" font-size=\"14.00\" fill=\"#000000\">class = 0</text>\n</g>\n<!-- 0&#45;&gt;1 -->\n<g id=\"edge1\" class=\"edge\">\n<title>0&#45;&gt;1</title>\n<path fill=\"none\" stroke=\"#000000\" d=\"M936.9369,-404.6393C909.4653,-392.7349 877.7439,-378.989 849.2003,-366.6201\"/>\n<polygon fill=\"#000000\" stroke=\"#000000\" points=\"850.2201,-363.2476 839.6528,-362.4829 847.4368,-369.6705 850.2201,-363.2476\"/>\n<text text-anchor=\"middle\" x=\"848.8443\" y=\"-382.0319\" font-family=\"Helvetica,sans-Serif\" font-size=\"14.00\" fill=\"#000000\">True</text>\n</g>\n<!-- 16 -->\n<g id=\"node17\" class=\"node\">\n<title>16</title>\n<polygon fill=\"#e89253\" stroke=\"#000000\" points=\"1338,-365 1198,-365 1198,-297 1338,-297 1338,-365\"/>\n<text text-anchor=\"middle\" x=\"1268\" y=\"-349.8\" font-family=\"Helvetica,sans-Serif\" font-size=\"14.00\" fill=\"#000000\">허리둘레 &lt;= 85.05</text>\n<text text-anchor=\"middle\" x=\"1268\" y=\"-334.8\" font-family=\"Helvetica,sans-Serif\" font-size=\"14.00\" fill=\"#000000\">samples = 5633</text>\n<text text-anchor=\"middle\" x=\"1268\" y=\"-319.8\" font-family=\"Helvetica,sans-Serif\" font-size=\"14.00\" fill=\"#000000\">value = [4978, 655]</text>\n<text text-anchor=\"middle\" x=\"1268\" y=\"-304.8\" font-family=\"Helvetica,sans-Serif\" font-size=\"14.00\" fill=\"#000000\">class = 0</text>\n</g>\n<!-- 0&#45;&gt;16 -->\n<g id=\"edge16\" class=\"edge\">\n<title>0&#45;&gt;16</title>\n<path fill=\"none\" stroke=\"#000000\" d=\"M1077.2865,-406.9931C1111.5206,-393.3519 1152.8354,-376.8894 1188.2457,-362.7795\"/>\n<polygon fill=\"#000000\" stroke=\"#000000\" points=\"1189.5939,-366.01 1197.5879,-359.0569 1187.0027,-359.5072 1189.5939,-366.01\"/>\n<text text-anchor=\"middle\" x=\"1187.7096\" y=\"-378.3225\" font-family=\"Helvetica,sans-Serif\" font-size=\"14.00\" fill=\"#000000\">False</text>\n</g>\n<!-- 2 -->\n<g id=\"node3\" class=\"node\">\n<title>2</title>\n<polygon fill=\"#e6843e\" stroke=\"#000000\" points=\"467,-261 335,-261 335,-193 467,-193 467,-261\"/>\n<text text-anchor=\"middle\" x=\"401\" y=\"-245.8\" font-family=\"Helvetica,sans-Serif\" font-size=\"14.00\" fill=\"#000000\">허리둘레 &lt;= 72.95</text>\n<text text-anchor=\"middle\" x=\"401\" y=\"-230.8\" font-family=\"Helvetica,sans-Serif\" font-size=\"14.00\" fill=\"#000000\">samples = 1748</text>\n<text text-anchor=\"middle\" x=\"401\" y=\"-215.8\" font-family=\"Helvetica,sans-Serif\" font-size=\"14.00\" fill=\"#000000\">value = [1703, 45]</text>\n<text text-anchor=\"middle\" x=\"401\" y=\"-200.8\" font-family=\"Helvetica,sans-Serif\" font-size=\"14.00\" fill=\"#000000\">class = 0</text>\n</g>\n<!-- 1&#45;&gt;2 -->\n<g id=\"edge2\" class=\"edge\">\n<title>1&#45;&gt;2</title>\n<path fill=\"none\" stroke=\"#000000\" d=\"M694.2526,-310.3286C631.4245,-292.4758 540.9544,-266.7685 477.1527,-248.639\"/>\n<polygon fill=\"#000000\" stroke=\"#000000\" points=\"477.7261,-245.1635 467.1502,-245.7968 475.8127,-251.8969 477.7261,-245.1635\"/>\n</g>\n<!-- 9 -->\n<g id=\"node10\" class=\"node\">\n<title>9</title>\n<polygon fill=\"#ea9b61\" stroke=\"#000000\" points=\"835.5,-261 698.5,-261 698.5,-193 835.5,-193 835.5,-261\"/>\n<text text-anchor=\"middle\" x=\"767\" y=\"-245.8\" font-family=\"Helvetica,sans-Serif\" font-size=\"14.00\" fill=\"#000000\">이완기혈압 &lt;= 84.5</text>\n<text text-anchor=\"middle\" x=\"767\" y=\"-230.8\" font-family=\"Helvetica,sans-Serif\" font-size=\"14.00\" fill=\"#000000\">samples = 53</text>\n<text text-anchor=\"middle\" x=\"767\" y=\"-215.8\" font-family=\"Helvetica,sans-Serif\" font-size=\"14.00\" fill=\"#000000\">value = [44, 9]</text>\n<text text-anchor=\"middle\" x=\"767\" y=\"-200.8\" font-family=\"Helvetica,sans-Serif\" font-size=\"14.00\" fill=\"#000000\">class = 0</text>\n</g>\n<!-- 1&#45;&gt;9 -->\n<g id=\"edge9\" class=\"edge\">\n<title>1&#45;&gt;9</title>\n<path fill=\"none\" stroke=\"#000000\" d=\"M767,-296.9465C767,-288.776 767,-279.9318 767,-271.3697\"/>\n<polygon fill=\"#000000\" stroke=\"#000000\" points=\"770.5001,-271.13 767,-261.13 763.5001,-271.13 770.5001,-271.13\"/>\n</g>\n<!-- 3 -->\n<g id=\"node4\" class=\"node\">\n<title>3</title>\n<polygon fill=\"#e5833c\" stroke=\"#000000\" points=\"266,-157 134,-157 134,-89 266,-89 266,-157\"/>\n<text text-anchor=\"middle\" x=\"200\" y=\"-141.8\" font-family=\"Helvetica,sans-Serif\" font-size=\"14.00\" fill=\"#000000\">BMI &lt;= 25.775</text>\n<text text-anchor=\"middle\" x=\"200\" y=\"-126.8\" font-family=\"Helvetica,sans-Serif\" font-size=\"14.00\" fill=\"#000000\">samples = 1190</text>\n<text text-anchor=\"middle\" x=\"200\" y=\"-111.8\" font-family=\"Helvetica,sans-Serif\" font-size=\"14.00\" fill=\"#000000\">value = [1170, 20]</text>\n<text text-anchor=\"middle\" x=\"200\" y=\"-96.8\" font-family=\"Helvetica,sans-Serif\" font-size=\"14.00\" fill=\"#000000\">class = 0</text>\n</g>\n<!-- 2&#45;&gt;3 -->\n<g id=\"edge3\" class=\"edge\">\n<title>2&#45;&gt;3</title>\n<path fill=\"none\" stroke=\"#000000\" d=\"M335.1851,-192.9465C315.9235,-182.9803 294.7245,-172.0117 274.9409,-161.7754\"/>\n<polygon fill=\"#000000\" stroke=\"#000000\" points=\"276.4528,-158.6169 265.9628,-157.13 273.2359,-164.834 276.4528,-158.6169\"/>\n</g>\n<!-- 6 -->\n<g id=\"node7\" class=\"node\">\n<title>6</title>\n<polygon fill=\"#e68742\" stroke=\"#000000\" points=\"463,-157 339,-157 339,-89 463,-89 463,-157\"/>\n<text text-anchor=\"middle\" x=\"401\" y=\"-141.8\" font-family=\"Helvetica,sans-Serif\" font-size=\"14.00\" fill=\"#000000\">BMI &lt;= 19.281</text>\n<text text-anchor=\"middle\" x=\"401\" y=\"-126.8\" font-family=\"Helvetica,sans-Serif\" font-size=\"14.00\" fill=\"#000000\">samples = 558</text>\n<text text-anchor=\"middle\" x=\"401\" y=\"-111.8\" font-family=\"Helvetica,sans-Serif\" font-size=\"14.00\" fill=\"#000000\">value = [533, 25]</text>\n<text text-anchor=\"middle\" x=\"401\" y=\"-96.8\" font-family=\"Helvetica,sans-Serif\" font-size=\"14.00\" fill=\"#000000\">class = 0</text>\n</g>\n<!-- 2&#45;&gt;6 -->\n<g id=\"edge6\" class=\"edge\">\n<title>2&#45;&gt;6</title>\n<path fill=\"none\" stroke=\"#000000\" d=\"M401,-192.9465C401,-184.776 401,-175.9318 401,-167.3697\"/>\n<polygon fill=\"#000000\" stroke=\"#000000\" points=\"404.5001,-167.13 401,-157.13 397.5001,-167.13 404.5001,-167.13\"/>\n</g>\n<!-- 4 -->\n<g id=\"node5\" class=\"node\">\n<title>4</title>\n<polygon fill=\"#e5833c\" stroke=\"#000000\" points=\"132,-53 0,-53 0,0 132,0 132,-53\"/>\n<text text-anchor=\"middle\" x=\"66\" y=\"-37.8\" font-family=\"Helvetica,sans-Serif\" font-size=\"14.00\" fill=\"#000000\">samples = 1183</text>\n<text text-anchor=\"middle\" x=\"66\" y=\"-22.8\" font-family=\"Helvetica,sans-Serif\" font-size=\"14.00\" fill=\"#000000\">value = [1164, 19]</text>\n<text text-anchor=\"middle\" x=\"66\" y=\"-7.8\" font-family=\"Helvetica,sans-Serif\" font-size=\"14.00\" fill=\"#000000\">class = 0</text>\n</g>\n<!-- 3&#45;&gt;4 -->\n<g id=\"edge4\" class=\"edge\">\n<title>3&#45;&gt;4</title>\n<path fill=\"none\" stroke=\"#000000\" d=\"M152.7566,-88.9777C139.2783,-79.2713 124.6285,-68.7213 111.2709,-59.1018\"/>\n<polygon fill=\"#000000\" stroke=\"#000000\" points=\"113.3031,-56.2522 103.143,-53.2485 109.2124,-61.9325 113.3031,-56.2522\"/>\n</g>\n<!-- 5 -->\n<g id=\"node6\" class=\"node\">\n<title>5</title>\n<polygon fill=\"#e9965a\" stroke=\"#000000\" points=\"249.5,-53 150.5,-53 150.5,0 249.5,0 249.5,-53\"/>\n<text text-anchor=\"middle\" x=\"200\" y=\"-37.8\" font-family=\"Helvetica,sans-Serif\" font-size=\"14.00\" fill=\"#000000\">samples = 7</text>\n<text text-anchor=\"middle\" x=\"200\" y=\"-22.8\" font-family=\"Helvetica,sans-Serif\" font-size=\"14.00\" fill=\"#000000\">value = [6, 1]</text>\n<text text-anchor=\"middle\" x=\"200\" y=\"-7.8\" font-family=\"Helvetica,sans-Serif\" font-size=\"14.00\" fill=\"#000000\">class = 0</text>\n</g>\n<!-- 3&#45;&gt;5 -->\n<g id=\"edge5\" class=\"edge\">\n<title>3&#45;&gt;5</title>\n<path fill=\"none\" stroke=\"#000000\" d=\"M200,-88.9777C200,-80.7364 200,-71.887 200,-63.5153\"/>\n<polygon fill=\"#000000\" stroke=\"#000000\" points=\"203.5001,-63.2484 200,-53.2485 196.5001,-63.2485 203.5001,-63.2484\"/>\n</g>\n<!-- 7 -->\n<g id=\"node8\" class=\"node\">\n<title>7</title>\n<polygon fill=\"#e89152\" stroke=\"#000000\" points=\"374.5,-53 267.5,-53 267.5,0 374.5,0 374.5,-53\"/>\n<text text-anchor=\"middle\" x=\"321\" y=\"-37.8\" font-family=\"Helvetica,sans-Serif\" font-size=\"14.00\" fill=\"#000000\">samples = 53</text>\n<text text-anchor=\"middle\" x=\"321\" y=\"-22.8\" font-family=\"Helvetica,sans-Serif\" font-size=\"14.00\" fill=\"#000000\">value = [47, 6]</text>\n<text text-anchor=\"middle\" x=\"321\" y=\"-7.8\" font-family=\"Helvetica,sans-Serif\" font-size=\"14.00\" fill=\"#000000\">class = 0</text>\n</g>\n<!-- 6&#45;&gt;7 -->\n<g id=\"edge7\" class=\"edge\">\n<title>6&#45;&gt;7</title>\n<path fill=\"none\" stroke=\"#000000\" d=\"M372.795,-88.9777C365.2796,-79.9123 357.1542,-70.111 349.617,-61.0192\"/>\n<polygon fill=\"#000000\" stroke=\"#000000\" points=\"352.2516,-58.7133 343.1749,-53.2485 346.8626,-63.1808 352.2516,-58.7133\"/>\n</g>\n<!-- 8 -->\n<g id=\"node9\" class=\"node\">\n<title>8</title>\n<polygon fill=\"#e68641\" stroke=\"#000000\" points=\"517,-53 393,-53 393,0 517,0 517,-53\"/>\n<text text-anchor=\"middle\" x=\"455\" y=\"-37.8\" font-family=\"Helvetica,sans-Serif\" font-size=\"14.00\" fill=\"#000000\">samples = 505</text>\n<text text-anchor=\"middle\" x=\"455\" y=\"-22.8\" font-family=\"Helvetica,sans-Serif\" font-size=\"14.00\" fill=\"#000000\">value = [486, 19]</text>\n<text text-anchor=\"middle\" x=\"455\" y=\"-7.8\" font-family=\"Helvetica,sans-Serif\" font-size=\"14.00\" fill=\"#000000\">class = 0</text>\n</g>\n<!-- 6&#45;&gt;8 -->\n<g id=\"edge8\" class=\"edge\">\n<title>6&#45;&gt;8</title>\n<path fill=\"none\" stroke=\"#000000\" d=\"M420.0384,-88.9777C424.9063,-80.2786 430.1534,-70.9018 435.065,-62.1247\"/>\n<polygon fill=\"#000000\" stroke=\"#000000\" points=\"438.2029,-63.6843 440.0319,-53.2485 432.0943,-60.2659 438.2029,-63.6843\"/>\n</g>\n<!-- 10 -->\n<g id=\"node11\" class=\"node\">\n<title>10</title>\n<polygon fill=\"#f2c09c\" stroke=\"#000000\" points=\"749.5,-157 638.5,-157 638.5,-89 749.5,-89 749.5,-157\"/>\n<text text-anchor=\"middle\" x=\"694\" y=\"-141.8\" font-family=\"Helvetica,sans-Serif\" font-size=\"14.00\" fill=\"#000000\">BMI &lt;= 21.107</text>\n<text text-anchor=\"middle\" x=\"694\" y=\"-126.8\" font-family=\"Helvetica,sans-Serif\" font-size=\"14.00\" fill=\"#000000\">samples = 18</text>\n<text text-anchor=\"middle\" x=\"694\" y=\"-111.8\" font-family=\"Helvetica,sans-Serif\" font-size=\"14.00\" fill=\"#000000\">value = [12, 6]</text>\n<text text-anchor=\"middle\" x=\"694\" y=\"-96.8\" font-family=\"Helvetica,sans-Serif\" font-size=\"14.00\" fill=\"#000000\">class = 0</text>\n</g>\n<!-- 9&#45;&gt;10 -->\n<g id=\"edge10\" class=\"edge\">\n<title>9&#45;&gt;10</title>\n<path fill=\"none\" stroke=\"#000000\" d=\"M743.0971,-192.9465C736.9209,-184.1475 730.1962,-174.5672 723.761,-165.3993\"/>\n<polygon fill=\"#000000\" stroke=\"#000000\" points=\"726.5666,-163.3041 717.9566,-157.13 720.8371,-167.3258 726.5666,-163.3041\"/>\n</g>\n<!-- 13 -->\n<g id=\"node14\" class=\"node\">\n<title>13</title>\n<polygon fill=\"#e78d4c\" stroke=\"#000000\" points=\"912.5,-157 767.5,-157 767.5,-89 912.5,-89 912.5,-157\"/>\n<text text-anchor=\"middle\" x=\"840\" y=\"-141.8\" font-family=\"Helvetica,sans-Serif\" font-size=\"14.00\" fill=\"#000000\">수축기혈압 &lt;= 168.0</text>\n<text text-anchor=\"middle\" x=\"840\" y=\"-126.8\" font-family=\"Helvetica,sans-Serif\" font-size=\"14.00\" fill=\"#000000\">samples = 35</text>\n<text text-anchor=\"middle\" x=\"840\" y=\"-111.8\" font-family=\"Helvetica,sans-Serif\" font-size=\"14.00\" fill=\"#000000\">value = [32, 3]</text>\n<text text-anchor=\"middle\" x=\"840\" y=\"-96.8\" font-family=\"Helvetica,sans-Serif\" font-size=\"14.00\" fill=\"#000000\">class = 0</text>\n</g>\n<!-- 9&#45;&gt;13 -->\n<g id=\"edge13\" class=\"edge\">\n<title>9&#45;&gt;13</title>\n<path fill=\"none\" stroke=\"#000000\" d=\"M790.9029,-192.9465C797.0791,-184.1475 803.8038,-174.5672 810.239,-165.3993\"/>\n<polygon fill=\"#000000\" stroke=\"#000000\" points=\"813.1629,-167.3258 816.0434,-157.13 807.4334,-163.3041 813.1629,-167.3258\"/>\n</g>\n<!-- 11 -->\n<g id=\"node12\" class=\"node\">\n<title>11</title>\n<polygon fill=\"#b0d8f5\" stroke=\"#000000\" points=\"634.5,-53 535.5,-53 535.5,0 634.5,0 634.5,-53\"/>\n<text text-anchor=\"middle\" x=\"585\" y=\"-37.8\" font-family=\"Helvetica,sans-Serif\" font-size=\"14.00\" fill=\"#000000\">samples = 8</text>\n<text text-anchor=\"middle\" x=\"585\" y=\"-22.8\" font-family=\"Helvetica,sans-Serif\" font-size=\"14.00\" fill=\"#000000\">value = [3, 5]</text>\n<text text-anchor=\"middle\" x=\"585\" y=\"-7.8\" font-family=\"Helvetica,sans-Serif\" font-size=\"14.00\" fill=\"#000000\">class = 1</text>\n</g>\n<!-- 10&#45;&gt;11 -->\n<g id=\"edge11\" class=\"edge\">\n<title>10&#45;&gt;11</title>\n<path fill=\"none\" stroke=\"#000000\" d=\"M655.5707,-88.9777C644.9173,-79.546 633.3641,-69.3178 622.7499,-59.9208\"/>\n<polygon fill=\"#000000\" stroke=\"#000000\" points=\"625.0207,-57.2566 615.2133,-53.2485 620.3806,-62.4978 625.0207,-57.2566\"/>\n</g>\n<!-- 12 -->\n<g id=\"node13\" class=\"node\">\n<title>12</title>\n<polygon fill=\"#e88f4f\" stroke=\"#000000\" points=\"757,-53 653,-53 653,0 757,0 757,-53\"/>\n<text text-anchor=\"middle\" x=\"705\" y=\"-37.8\" font-family=\"Helvetica,sans-Serif\" font-size=\"14.00\" fill=\"#000000\">samples = 10</text>\n<text text-anchor=\"middle\" x=\"705\" y=\"-22.8\" font-family=\"Helvetica,sans-Serif\" font-size=\"14.00\" fill=\"#000000\">value = [9, 1]</text>\n<text text-anchor=\"middle\" x=\"705\" y=\"-7.8\" font-family=\"Helvetica,sans-Serif\" font-size=\"14.00\" fill=\"#000000\">class = 0</text>\n</g>\n<!-- 10&#45;&gt;12 -->\n<g id=\"edge12\" class=\"edge\">\n<title>10&#45;&gt;12</title>\n<path fill=\"none\" stroke=\"#000000\" d=\"M697.8782,-88.9777C698.828,-80.6449 699.8488,-71.6903 700.8124,-63.2364\"/>\n<polygon fill=\"#000000\" stroke=\"#000000\" points=\"704.2958,-63.5806 701.951,-53.2485 697.3408,-62.7877 704.2958,-63.5806\"/>\n</g>\n<!-- 14 -->\n<g id=\"node15\" class=\"node\">\n<title>14</title>\n<polygon fill=\"#e78946\" stroke=\"#000000\" points=\"882.5,-53 775.5,-53 775.5,0 882.5,0 882.5,-53\"/>\n<text text-anchor=\"middle\" x=\"829\" y=\"-37.8\" font-family=\"Helvetica,sans-Serif\" font-size=\"14.00\" fill=\"#000000\">samples = 33</text>\n<text text-anchor=\"middle\" x=\"829\" y=\"-22.8\" font-family=\"Helvetica,sans-Serif\" font-size=\"14.00\" fill=\"#000000\">value = [31, 2]</text>\n<text text-anchor=\"middle\" x=\"829\" y=\"-7.8\" font-family=\"Helvetica,sans-Serif\" font-size=\"14.00\" fill=\"#000000\">class = 0</text>\n</g>\n<!-- 13&#45;&gt;14 -->\n<g id=\"edge14\" class=\"edge\">\n<title>13&#45;&gt;14</title>\n<path fill=\"none\" stroke=\"#000000\" d=\"M836.1218,-88.9777C835.172,-80.6449 834.1512,-71.6903 833.1876,-63.2364\"/>\n<polygon fill=\"#000000\" stroke=\"#000000\" points=\"836.6592,-62.7877 832.049,-53.2485 829.7042,-63.5806 836.6592,-62.7877\"/>\n</g>\n<!-- 15 -->\n<g id=\"node16\" class=\"node\">\n<title>15</title>\n<polygon fill=\"#ffffff\" stroke=\"#000000\" points=\"999.5,-53 900.5,-53 900.5,0 999.5,0 999.5,-53\"/>\n<text text-anchor=\"middle\" x=\"950\" y=\"-37.8\" font-family=\"Helvetica,sans-Serif\" font-size=\"14.00\" fill=\"#000000\">samples = 2</text>\n<text text-anchor=\"middle\" x=\"950\" y=\"-22.8\" font-family=\"Helvetica,sans-Serif\" font-size=\"14.00\" fill=\"#000000\">value = [1, 1]</text>\n<text text-anchor=\"middle\" x=\"950\" y=\"-7.8\" font-family=\"Helvetica,sans-Serif\" font-size=\"14.00\" fill=\"#000000\">class = 0</text>\n</g>\n<!-- 13&#45;&gt;15 -->\n<g id=\"edge15\" class=\"edge\">\n<title>13&#45;&gt;15</title>\n<path fill=\"none\" stroke=\"#000000\" d=\"M878.7819,-88.9777C889.533,-79.546 901.1922,-69.3178 911.9038,-59.9208\"/>\n<polygon fill=\"#000000\" stroke=\"#000000\" points=\"914.3004,-62.4743 919.5095,-53.2485 909.684,-57.2122 914.3004,-62.4743\"/>\n</g>\n<!-- 17 -->\n<g id=\"node18\" class=\"node\">\n<title>17</title>\n<polygon fill=\"#e88e4d\" stroke=\"#000000\" points=\"1340.5,-261 1195.5,-261 1195.5,-193 1340.5,-193 1340.5,-261\"/>\n<text text-anchor=\"middle\" x=\"1268\" y=\"-245.8\" font-family=\"Helvetica,sans-Serif\" font-size=\"14.00\" fill=\"#000000\">수축기혈압 &lt;= 119.5</text>\n<text text-anchor=\"middle\" x=\"1268\" y=\"-230.8\" font-family=\"Helvetica,sans-Serif\" font-size=\"14.00\" fill=\"#000000\">samples = 2822</text>\n<text text-anchor=\"middle\" x=\"1268\" y=\"-215.8\" font-family=\"Helvetica,sans-Serif\" font-size=\"14.00\" fill=\"#000000\">value = [2564, 258]</text>\n<text text-anchor=\"middle\" x=\"1268\" y=\"-200.8\" font-family=\"Helvetica,sans-Serif\" font-size=\"14.00\" fill=\"#000000\">class = 0</text>\n</g>\n<!-- 16&#45;&gt;17 -->\n<g id=\"edge17\" class=\"edge\">\n<title>16&#45;&gt;17</title>\n<path fill=\"none\" stroke=\"#000000\" d=\"M1268,-296.9465C1268,-288.776 1268,-279.9318 1268,-271.3697\"/>\n<polygon fill=\"#000000\" stroke=\"#000000\" points=\"1271.5001,-271.13 1268,-261.13 1264.5001,-271.13 1271.5001,-271.13\"/>\n</g>\n<!-- 24 -->\n<g id=\"node25\" class=\"node\">\n<title>24</title>\n<polygon fill=\"#e9965a\" stroke=\"#000000\" points=\"1794.5,-261 1649.5,-261 1649.5,-193 1794.5,-193 1794.5,-261\"/>\n<text text-anchor=\"middle\" x=\"1722\" y=\"-245.8\" font-family=\"Helvetica,sans-Serif\" font-size=\"14.00\" fill=\"#000000\">수축기혈압 &lt;= 137.5</text>\n<text text-anchor=\"middle\" x=\"1722\" y=\"-230.8\" font-family=\"Helvetica,sans-Serif\" font-size=\"14.00\" fill=\"#000000\">samples = 2811</text>\n<text text-anchor=\"middle\" x=\"1722\" y=\"-215.8\" font-family=\"Helvetica,sans-Serif\" font-size=\"14.00\" fill=\"#000000\">value = [2414, 397]</text>\n<text text-anchor=\"middle\" x=\"1722\" y=\"-200.8\" font-family=\"Helvetica,sans-Serif\" font-size=\"14.00\" fill=\"#000000\">class = 0</text>\n</g>\n<!-- 16&#45;&gt;24 -->\n<g id=\"edge24\" class=\"edge\">\n<title>16&#45;&gt;24</title>\n<path fill=\"none\" stroke=\"#000000\" d=\"M1338.4394,-314.8641C1419.656,-296.2594 1553.0045,-265.7126 1639.1361,-245.982\"/>\n<polygon fill=\"#000000\" stroke=\"#000000\" points=\"1640.1727,-249.3353 1649.1387,-243.6907 1638.6097,-242.512 1640.1727,-249.3353\"/>\n</g>\n<!-- 18 -->\n<g id=\"node19\" class=\"node\">\n<title>18</title>\n<polygon fill=\"#e78845\" stroke=\"#000000\" points=\"1256.5,-157 1125.5,-157 1125.5,-89 1256.5,-89 1256.5,-157\"/>\n<text text-anchor=\"middle\" x=\"1191\" y=\"-141.8\" font-family=\"Helvetica,sans-Serif\" font-size=\"14.00\" fill=\"#000000\">허리둘레 &lt;= 75.15</text>\n<text text-anchor=\"middle\" x=\"1191\" y=\"-126.8\" font-family=\"Helvetica,sans-Serif\" font-size=\"14.00\" fill=\"#000000\">samples = 1013</text>\n<text text-anchor=\"middle\" x=\"1191\" y=\"-111.8\" font-family=\"Helvetica,sans-Serif\" font-size=\"14.00\" fill=\"#000000\">value = [957, 56]</text>\n<text text-anchor=\"middle\" x=\"1191\" y=\"-96.8\" font-family=\"Helvetica,sans-Serif\" font-size=\"14.00\" fill=\"#000000\">class = 0</text>\n</g>\n<!-- 17&#45;&gt;18 -->\n<g id=\"edge18\" class=\"edge\">\n<title>17&#45;&gt;18</title>\n<path fill=\"none\" stroke=\"#000000\" d=\"M1242.7873,-192.9465C1236.2727,-184.1475 1229.1795,-174.5672 1222.3918,-165.3993\"/>\n<polygon fill=\"#000000\" stroke=\"#000000\" points=\"1225.0327,-163.0843 1216.2693,-157.13 1219.4069,-167.2496 1225.0327,-163.0843\"/>\n</g>\n<!-- 21 -->\n<g id=\"node22\" class=\"node\">\n<title>21</title>\n<polygon fill=\"#e89152\" stroke=\"#000000\" points=\"1415,-157 1275,-157 1275,-89 1415,-89 1415,-157\"/>\n<text text-anchor=\"middle\" x=\"1345\" y=\"-141.8\" font-family=\"Helvetica,sans-Serif\" font-size=\"14.00\" fill=\"#000000\">이완기혈압 &lt;= 71.5</text>\n<text text-anchor=\"middle\" x=\"1345\" y=\"-126.8\" font-family=\"Helvetica,sans-Serif\" font-size=\"14.00\" fill=\"#000000\">samples = 1809</text>\n<text text-anchor=\"middle\" x=\"1345\" y=\"-111.8\" font-family=\"Helvetica,sans-Serif\" font-size=\"14.00\" fill=\"#000000\">value = [1607, 202]</text>\n<text text-anchor=\"middle\" x=\"1345\" y=\"-96.8\" font-family=\"Helvetica,sans-Serif\" font-size=\"14.00\" fill=\"#000000\">class = 0</text>\n</g>\n<!-- 17&#45;&gt;21 -->\n<g id=\"edge21\" class=\"edge\">\n<title>17&#45;&gt;21</title>\n<path fill=\"none\" stroke=\"#000000\" d=\"M1293.2127,-192.9465C1299.7273,-184.1475 1306.8205,-174.5672 1313.6082,-165.3993\"/>\n<polygon fill=\"#000000\" stroke=\"#000000\" points=\"1316.5931,-167.2496 1319.7307,-157.13 1310.9673,-163.0843 1316.5931,-167.2496\"/>\n</g>\n<!-- 19 -->\n<g id=\"node20\" class=\"node\">\n<title>19</title>\n<polygon fill=\"#399de5\" stroke=\"#000000\" points=\"1116.5,-53 1017.5,-53 1017.5,0 1116.5,0 1116.5,-53\"/>\n<text text-anchor=\"middle\" x=\"1067\" y=\"-37.8\" font-family=\"Helvetica,sans-Serif\" font-size=\"14.00\" fill=\"#000000\">samples = 1</text>\n<text text-anchor=\"middle\" x=\"1067\" y=\"-22.8\" font-family=\"Helvetica,sans-Serif\" font-size=\"14.00\" fill=\"#000000\">value = [0, 1]</text>\n<text text-anchor=\"middle\" x=\"1067\" y=\"-7.8\" font-family=\"Helvetica,sans-Serif\" font-size=\"14.00\" fill=\"#000000\">class = 1</text>\n</g>\n<!-- 18&#45;&gt;19 -->\n<g id=\"edge19\" class=\"edge\">\n<title>18&#45;&gt;19</title>\n<path fill=\"none\" stroke=\"#000000\" d=\"M1147.2822,-88.9777C1135.0451,-79.4545 1121.7645,-69.1191 1109.5934,-59.6473\"/>\n<polygon fill=\"#000000\" stroke=\"#000000\" points=\"1111.4125,-56.628 1101.3711,-53.2485 1107.1134,-62.1523 1111.4125,-56.628\"/>\n</g>\n<!-- 20 -->\n<g id=\"node21\" class=\"node\">\n<title>20</title>\n<polygon fill=\"#e68844\" stroke=\"#000000\" points=\"1259,-53 1135,-53 1135,0 1259,0 1259,-53\"/>\n<text text-anchor=\"middle\" x=\"1197\" y=\"-37.8\" font-family=\"Helvetica,sans-Serif\" font-size=\"14.00\" fill=\"#000000\">samples = 1012</text>\n<text text-anchor=\"middle\" x=\"1197\" y=\"-22.8\" font-family=\"Helvetica,sans-Serif\" font-size=\"14.00\" fill=\"#000000\">value = [957, 55]</text>\n<text text-anchor=\"middle\" x=\"1197\" y=\"-7.8\" font-family=\"Helvetica,sans-Serif\" font-size=\"14.00\" fill=\"#000000\">class = 0</text>\n</g>\n<!-- 18&#45;&gt;20 -->\n<g id=\"edge20\" class=\"edge\">\n<title>18&#45;&gt;20</title>\n<path fill=\"none\" stroke=\"#000000\" d=\"M1193.1154,-88.9777C1193.6335,-80.6449 1194.1902,-71.6903 1194.7159,-63.2364\"/>\n<polygon fill=\"#000000\" stroke=\"#000000\" points=\"1198.2095,-63.4464 1195.3369,-53.2485 1191.223,-63.012 1198.2095,-63.4464\"/>\n</g>\n<!-- 22 -->\n<g id=\"node23\" class=\"node\">\n<title>22</title>\n<polygon fill=\"#eb9e66\" stroke=\"#000000\" points=\"1401,-53 1277,-53 1277,0 1401,0 1401,-53\"/>\n<text text-anchor=\"middle\" x=\"1339\" y=\"-37.8\" font-family=\"Helvetica,sans-Serif\" font-size=\"14.00\" fill=\"#000000\">samples = 289</text>\n<text text-anchor=\"middle\" x=\"1339\" y=\"-22.8\" font-family=\"Helvetica,sans-Serif\" font-size=\"14.00\" fill=\"#000000\">value = [235, 54]</text>\n<text text-anchor=\"middle\" x=\"1339\" y=\"-7.8\" font-family=\"Helvetica,sans-Serif\" font-size=\"14.00\" fill=\"#000000\">class = 0</text>\n</g>\n<!-- 21&#45;&gt;22 -->\n<g id=\"edge22\" class=\"edge\">\n<title>21&#45;&gt;22</title>\n<path fill=\"none\" stroke=\"#000000\" d=\"M1342.8846,-88.9777C1342.3665,-80.6449 1341.8098,-71.6903 1341.2841,-63.2364\"/>\n<polygon fill=\"#000000\" stroke=\"#000000\" points=\"1344.777,-63.012 1340.6631,-53.2485 1337.7905,-63.4464 1344.777,-63.012\"/>\n</g>\n<!-- 23 -->\n<g id=\"node24\" class=\"node\">\n<title>23</title>\n<polygon fill=\"#e88f4e\" stroke=\"#000000\" points=\"1559,-53 1419,-53 1419,0 1559,0 1559,-53\"/>\n<text text-anchor=\"middle\" x=\"1489\" y=\"-37.8\" font-family=\"Helvetica,sans-Serif\" font-size=\"14.00\" fill=\"#000000\">samples = 1520</text>\n<text text-anchor=\"middle\" x=\"1489\" y=\"-22.8\" font-family=\"Helvetica,sans-Serif\" font-size=\"14.00\" fill=\"#000000\">value = [1372, 148]</text>\n<text text-anchor=\"middle\" x=\"1489\" y=\"-7.8\" font-family=\"Helvetica,sans-Serif\" font-size=\"14.00\" fill=\"#000000\">class = 0</text>\n</g>\n<!-- 21&#45;&gt;23 -->\n<g id=\"edge23\" class=\"edge\">\n<title>21&#45;&gt;23</title>\n<path fill=\"none\" stroke=\"#000000\" d=\"M1395.769,-88.9777C1410.3898,-79.1798 1426.2933,-68.5222 1440.7565,-58.8298\"/>\n<polygon fill=\"#000000\" stroke=\"#000000\" points=\"1442.7264,-61.723 1449.0852,-53.2485 1438.8295,-55.908 1442.7264,-61.723\"/>\n</g>\n<!-- 25 -->\n<g id=\"node26\" class=\"node\">\n<title>25</title>\n<polygon fill=\"#e99456\" stroke=\"#000000\" points=\"1792,-157 1652,-157 1652,-89 1792,-89 1792,-157\"/>\n<text text-anchor=\"middle\" x=\"1722\" y=\"-141.8\" font-family=\"Helvetica,sans-Serif\" font-size=\"14.00\" fill=\"#000000\">허리둘레 &lt;= 91.15</text>\n<text text-anchor=\"middle\" x=\"1722\" y=\"-126.8\" font-family=\"Helvetica,sans-Serif\" font-size=\"14.00\" fill=\"#000000\">samples = 2115</text>\n<text text-anchor=\"middle\" x=\"1722\" y=\"-111.8\" font-family=\"Helvetica,sans-Serif\" font-size=\"14.00\" fill=\"#000000\">value = [1843, 272]</text>\n<text text-anchor=\"middle\" x=\"1722\" y=\"-96.8\" font-family=\"Helvetica,sans-Serif\" font-size=\"14.00\" fill=\"#000000\">class = 0</text>\n</g>\n<!-- 24&#45;&gt;25 -->\n<g id=\"edge25\" class=\"edge\">\n<title>24&#45;&gt;25</title>\n<path fill=\"none\" stroke=\"#000000\" d=\"M1722,-192.9465C1722,-184.776 1722,-175.9318 1722,-167.3697\"/>\n<polygon fill=\"#000000\" stroke=\"#000000\" points=\"1725.5001,-167.13 1722,-157.13 1718.5001,-167.13 1725.5001,-167.13\"/>\n</g>\n<!-- 28 -->\n<g id=\"node29\" class=\"node\">\n<title>28</title>\n<polygon fill=\"#eb9d64\" stroke=\"#000000\" points=\"2017,-157 1885,-157 1885,-89 2017,-89 2017,-157\"/>\n<text text-anchor=\"middle\" x=\"1951\" y=\"-141.8\" font-family=\"Helvetica,sans-Serif\" font-size=\"14.00\" fill=\"#000000\">BMI &lt;= 42.066</text>\n<text text-anchor=\"middle\" x=\"1951\" y=\"-126.8\" font-family=\"Helvetica,sans-Serif\" font-size=\"14.00\" fill=\"#000000\">samples = 696</text>\n<text text-anchor=\"middle\" x=\"1951\" y=\"-111.8\" font-family=\"Helvetica,sans-Serif\" font-size=\"14.00\" fill=\"#000000\">value = [571, 125]</text>\n<text text-anchor=\"middle\" x=\"1951\" y=\"-96.8\" font-family=\"Helvetica,sans-Serif\" font-size=\"14.00\" fill=\"#000000\">class = 0</text>\n</g>\n<!-- 24&#45;&gt;28 -->\n<g id=\"edge28\" class=\"edge\">\n<title>24&#45;&gt;28</title>\n<path fill=\"none\" stroke=\"#000000\" d=\"M1794.7717,-193.9509C1820.4328,-182.2969 1849.3333,-169.1718 1875.2358,-157.4082\"/>\n<polygon fill=\"#000000\" stroke=\"#000000\" points=\"1876.9738,-160.463 1884.6316,-153.1411 1874.0793,-154.0894 1876.9738,-160.463\"/>\n</g>\n<!-- 26 -->\n<g id=\"node27\" class=\"node\">\n<title>26</title>\n<polygon fill=\"#e89152\" stroke=\"#000000\" points=\"1717,-53 1577,-53 1577,0 1717,0 1717,-53\"/>\n<text text-anchor=\"middle\" x=\"1647\" y=\"-37.8\" font-family=\"Helvetica,sans-Serif\" font-size=\"14.00\" fill=\"#000000\">samples = 1220</text>\n<text text-anchor=\"middle\" x=\"1647\" y=\"-22.8\" font-family=\"Helvetica,sans-Serif\" font-size=\"14.00\" fill=\"#000000\">value = [1083, 137]</text>\n<text text-anchor=\"middle\" x=\"1647\" y=\"-7.8\" font-family=\"Helvetica,sans-Serif\" font-size=\"14.00\" fill=\"#000000\">class = 0</text>\n</g>\n<!-- 25&#45;&gt;26 -->\n<g id=\"edge26\" class=\"edge\">\n<title>25&#45;&gt;26</title>\n<path fill=\"none\" stroke=\"#000000\" d=\"M1695.5578,-88.9777C1688.5833,-80.0039 1681.0484,-70.3089 1674.0427,-61.295\"/>\n<polygon fill=\"#000000\" stroke=\"#000000\" points=\"1676.6891,-58.9964 1667.789,-53.2485 1671.1621,-63.292 1676.6891,-58.9964\"/>\n</g>\n<!-- 27 -->\n<g id=\"node28\" class=\"node\">\n<title>27</title>\n<polygon fill=\"#ea975c\" stroke=\"#000000\" points=\"1867,-53 1735,-53 1735,0 1867,0 1867,-53\"/>\n<text text-anchor=\"middle\" x=\"1801\" y=\"-37.8\" font-family=\"Helvetica,sans-Serif\" font-size=\"14.00\" fill=\"#000000\">samples = 895</text>\n<text text-anchor=\"middle\" x=\"1801\" y=\"-22.8\" font-family=\"Helvetica,sans-Serif\" font-size=\"14.00\" fill=\"#000000\">value = [760, 135]</text>\n<text text-anchor=\"middle\" x=\"1801\" y=\"-7.8\" font-family=\"Helvetica,sans-Serif\" font-size=\"14.00\" fill=\"#000000\">class = 0</text>\n</g>\n<!-- 25&#45;&gt;27 -->\n<g id=\"edge27\" class=\"edge\">\n<title>25&#45;&gt;27</title>\n<path fill=\"none\" stroke=\"#000000\" d=\"M1749.8524,-88.9777C1757.2739,-79.9123 1765.2977,-70.111 1772.7407,-61.0192\"/>\n<polygon fill=\"#000000\" stroke=\"#000000\" points=\"1775.4759,-63.2034 1779.1023,-53.2485 1770.0595,-58.7692 1775.4759,-63.2034\"/>\n</g>\n<!-- 29 -->\n<g id=\"node30\" class=\"node\">\n<title>29</title>\n<polygon fill=\"#eb9c64\" stroke=\"#000000\" points=\"2017,-53 1885,-53 1885,0 2017,0 2017,-53\"/>\n<text text-anchor=\"middle\" x=\"1951\" y=\"-37.8\" font-family=\"Helvetica,sans-Serif\" font-size=\"14.00\" fill=\"#000000\">samples = 695</text>\n<text text-anchor=\"middle\" x=\"1951\" y=\"-22.8\" font-family=\"Helvetica,sans-Serif\" font-size=\"14.00\" fill=\"#000000\">value = [571, 124]</text>\n<text text-anchor=\"middle\" x=\"1951\" y=\"-7.8\" font-family=\"Helvetica,sans-Serif\" font-size=\"14.00\" fill=\"#000000\">class = 0</text>\n</g>\n<!-- 28&#45;&gt;29 -->\n<g id=\"edge29\" class=\"edge\">\n<title>28&#45;&gt;29</title>\n<path fill=\"none\" stroke=\"#000000\" d=\"M1951,-88.9777C1951,-80.7364 1951,-71.887 1951,-63.5153\"/>\n<polygon fill=\"#000000\" stroke=\"#000000\" points=\"1954.5001,-63.2484 1951,-53.2485 1947.5001,-63.2485 1954.5001,-63.2484\"/>\n</g>\n<!-- 30 -->\n<g id=\"node31\" class=\"node\">\n<title>30</title>\n<polygon fill=\"#399de5\" stroke=\"#000000\" points=\"2134.5,-53 2035.5,-53 2035.5,0 2134.5,0 2134.5,-53\"/>\n<text text-anchor=\"middle\" x=\"2085\" y=\"-37.8\" font-family=\"Helvetica,sans-Serif\" font-size=\"14.00\" fill=\"#000000\">samples = 1</text>\n<text text-anchor=\"middle\" x=\"2085\" y=\"-22.8\" font-family=\"Helvetica,sans-Serif\" font-size=\"14.00\" fill=\"#000000\">value = [0, 1]</text>\n<text text-anchor=\"middle\" x=\"2085\" y=\"-7.8\" font-family=\"Helvetica,sans-Serif\" font-size=\"14.00\" fill=\"#000000\">class = 1</text>\n</g>\n<!-- 28&#45;&gt;30 -->\n<g id=\"edge30\" class=\"edge\">\n<title>28&#45;&gt;30</title>\n<path fill=\"none\" stroke=\"#000000\" d=\"M1998.2434,-88.9777C2011.7217,-79.2713 2026.3715,-68.7213 2039.7291,-59.1018\"/>\n<polygon fill=\"#000000\" stroke=\"#000000\" points=\"2041.7876,-61.9325 2047.857,-53.2485 2037.6969,-56.2522 2041.7876,-61.9325\"/>\n</g>\n</g>\n</svg>\n"
          },
          "metadata": {}
        }
      ]
    },
    {
      "cell_type": "markdown",
      "source": [
        "# 랜덤 포레스트"
      ],
      "metadata": {
        "id": "9xqaU1Be6S5X"
      }
    },
    {
      "cell_type": "code",
      "source": [
        "from sklearn.ensemble import RandomForestClassifier\n",
        "\n",
        "forest = RandomForestClassifier(n_estimators=100, random_state=0)\n",
        "forest.fit(X_train, y_train)\n",
        "\n",
        "print(\"학습용 데이터 세트 정확도: {:.3f}\".format(forest.score(X_train, y_train)))\n",
        "print(\"시험용 데이터 세트 정확도: {:.3f}\".format(forest.score(X_test, y_test)))"
      ],
      "metadata": {
        "colab": {
          "base_uri": "https://localhost:8080/"
        },
        "id": "Fj1Wkeu615VM",
        "outputId": "120c105a-a5ec-4332-8355-8714621e4cc4"
      },
      "execution_count": 142,
      "outputs": [
        {
          "output_type": "stream",
          "name": "stdout",
          "text": [
            "학습용 데이터 세트 정확도: 0.997\n",
            "시험용 데이터 세트 정확도: 0.894\n"
          ]
        }
      ]
    },
    {
      "cell_type": "markdown",
      "source": [
        "# 그래디언트 부스팅"
      ],
      "metadata": {
        "id": "RytanSgF6p0m"
      }
    },
    {
      "cell_type": "code",
      "source": [
        "from sklearn.ensemble import GradientBoostingClassifier\n",
        "\n",
        "gbrt = GradientBoostingClassifier(random_state=0)\n",
        "gbrt.fit(X_train, y_train)\n",
        "\n",
        "print(\"학습용 데이터 세트 정확도: {:.3f}\".format(gbrt.score(X_train, y_train)))\n",
        "print(\"시험용 데이터 세트 정확도: {:.3f}\".format(gbrt.score(X_test, y_test)))"
      ],
      "metadata": {
        "colab": {
          "base_uri": "https://localhost:8080/"
        },
        "id": "XBoEpoXr2lCy",
        "outputId": "a12a1d63-3b9b-4d86-ff4f-33176c82adbc"
      },
      "execution_count": 143,
      "outputs": [
        {
          "output_type": "stream",
          "name": "stdout",
          "text": [
            "학습용 데이터 세트 정확도: 0.906\n",
            "시험용 데이터 세트 정확도: 0.900\n"
          ]
        }
      ]
    },
    {
      "cell_type": "code",
      "source": [
        "## 파라미터 변경\n",
        "\n",
        "gbrt = GradientBoostingClassifier(random_state=0, max_depth=2)\n",
        "gbrt.fit(X_train, y_train)\n",
        "\n",
        "print(\"학습 데이터 세트 정확도: {:.3f}\".format(gbrt.score(X_train, y_train)))\n",
        "print(\"시험용 데이터 세트 정확도: {:.3f}\".format(gbrt.score(X_test, y_test)))"
      ],
      "metadata": {
        "colab": {
          "base_uri": "https://localhost:8080/"
        },
        "id": "1RygJMYv2xL5",
        "outputId": "54cd4a67-1de3-4ba5-a696-19d524e65275"
      },
      "execution_count": 144,
      "outputs": [
        {
          "output_type": "stream",
          "name": "stdout",
          "text": [
            "학습 데이터 세트 정확도: 0.905\n",
            "시험용 데이터 세트 정확도: 0.901\n"
          ]
        }
      ]
    },
    {
      "cell_type": "markdown",
      "source": [
        "# 분류 모델 평가(정오분류표)"
      ],
      "metadata": {
        "id": "iUB7yhlh7AyJ"
      }
    },
    {
      "cell_type": "code",
      "source": [
        "## 교차 검증\n",
        "\n",
        "from sklearn.model_selection import cross_val_score\n",
        "\n",
        "dt_scores = cross_val_score(tree, X_train, y_train, cv=10, scoring='accuracy')  \n",
        "rf_scores = cross_val_score(forest, X_train, y_train, cv=10, scoring='accuracy')\n",
        "gbrt_scores = cross_val_score(gbrt, X_train, y_train, cv=10, scoring='accuracy')\n",
        "\n",
        "print(\"Accuracy\")\n",
        "print(\"Decision tree: \", dt_scores) \n",
        "print(\"Random forest: \", rf_scores) \n",
        "print(\"Gradient boosting: \", gbrt_scores) \n",
        "\n",
        "print(\"Accuracy mean\")\n",
        "print(\"Decision tree :{:.3f}\".format(dt_scores.mean())) \n",
        "print(\"Random forest :{:.3f}\".format(rf_scores.mean())) \n",
        "print(\"Gradient boosting :{:.3f}\".format(gbrt_scores.mean())) "
      ],
      "metadata": {
        "colab": {
          "base_uri": "https://localhost:8080/"
        },
        "id": "UKdLsrN2AuSA",
        "outputId": "5158aa53-92e1-44b7-a984-902b6b5a518c"
      },
      "execution_count": 145,
      "outputs": [
        {
          "output_type": "stream",
          "name": "stdout",
          "text": [
            "Accuracy\n",
            "Decision tree:  [0.90456989 0.90322581 0.90322581 0.90322581 0.90578735 0.90444145\n",
            " 0.90309556 0.90444145 0.90444145 0.90444145]\n",
            "Random forest:  [0.89650538 0.89516129 0.89784946 0.8938172  0.90444145 0.89905787\n",
            " 0.90040377 0.89502019 0.8923284  0.90174966]\n",
            "Gradient boosting:  [0.90456989 0.90456989 0.90322581 0.90322581 0.90578735 0.90444145\n",
            " 0.90444145 0.90444145 0.90444145 0.90444145]\n",
            "Accuracy mean\n",
            "Decision tree :0.904\n",
            "Random forest :0.898\n",
            "Gradient boosting :0.904\n"
          ]
        }
      ]
    },
    {
      "cell_type": "code",
      "source": [
        "from sklearn.metrics import accuracy_score, precision_score, recall_score, f1_score\n",
        "from sklearn.metrics import confusion_matrix \n",
        "\n",
        "print(y_test.value_counts()) # y_test 의 B,M 분포\n",
        "\n",
        "dt_pred = tree.predict(X_test)\n",
        "rf_pred = forest.predict(X_test)\n",
        "gbrt_pred = gbrt.predict(X_test)\n",
        "\n",
        "# 예측 결과인 pred와 실제 결과인 y_test의 Confusion Matrix 출력\n",
        "print('Decision tree 시험용 데이터 세트 정확도:{:.3f}'.format(accuracy_score(y_test, dt_pred)))\n",
        "print(confusion_matrix(y_test, dt_pred))\n",
        "print('Random forest 시험용 데이터 세트 정확도:{:.3f}'.format(accuracy_score(y_test, rf_pred)))\n",
        "print(confusion_matrix(y_test, rf_pred))\n",
        "print('Gradient boosting 시험용 데이터 세트 정확도:{:.3f}'.format(accuracy_score(y_test, gbrt_pred)))\n",
        "print(confusion_matrix(y_test, gbrt_pred))"
      ],
      "metadata": {
        "colab": {
          "base_uri": "https://localhost:8080/"
        },
        "id": "gHqwB41w7q4m",
        "outputId": "4675fa3b-4997-4779-8023-65cdbb927a4a"
      },
      "execution_count": null,
      "outputs": [
        {
          "output_type": "stream",
          "name": "stdout",
          "text": [
            "0    2232\n",
            "1     246\n",
            "Name: 당뇨여부, dtype: int64\n",
            "Decision tree 시험용 데이터 세트 정확도:0.900\n",
            "[[2230    2]\n",
            " [ 246    0]]\n",
            "Random forest 시험용 데이터 세트 정확도:0.894\n",
            "[[2211   21]\n",
            " [ 241    5]]\n",
            "Gradient boosting 시험용 데이터 세트 정확도:0.901\n",
            "[[2232    0]\n",
            " [ 246    0]]\n"
          ]
        }
      ]
    },
    {
      "cell_type": "markdown",
      "source": [
        "# 최적의 분류 모델 선택\n",
        "\n",
        "의사결정나무와 그래디언트 부스팅 거의 유사한 정확도를 보여주었다.\n",
        "\n",
        "두 모델 중 그래디언트 부스팅이 근소하게 더 높은 정확도로 분류하였으며,\n",
        "\n",
        "파라미터의 경우 max_depth = 2 를 적용한 경우가 적합하였다."
      ],
      "metadata": {
        "id": "IC82VSnmAcr5"
      }
    },
    {
      "cell_type": "markdown",
      "source": [
        "# 인사이트 도출"
      ],
      "metadata": {
        "id": "HZciAomfCphG"
      }
    },
    {
      "cell_type": "code",
      "source": [
        "def plot_feature_importances_health(model):\n",
        "    plt.rcParams[\"figure.figsize\"] = (9,6)\n",
        "    n_features = len(health.columns[4:8]) \n",
        "    plt.barh(np.arange(n_features), model.feature_importances_, align='center')\n",
        "    plt.yticks(np.arange(n_features), health.columns[4:8])\n",
        "    plt.xlabel(\"feature importance\")\n",
        "    plt.ylabel(\"feature\")\n",
        "    plt.ylim(-1, n_features)\n",
        "    \n",
        "plot_feature_importances_health(gbrt)"
      ],
      "metadata": {
        "colab": {
          "base_uri": "https://localhost:8080/",
          "height": 388
        },
        "id": "1iLMcuvFBOuu",
        "outputId": "b8b1edf9-bf07-4d57-c656-378a6dd4a6b3"
      },
      "execution_count": null,
      "outputs": [
        {
          "output_type": "display_data",
          "data": {
            "text/plain": [
              "<Figure size 648x432 with 1 Axes>"
            ],
            "image/png": "[encoded data removed]"
          },
          "metadata": {
            "needs_background": "light"
          }
        }
      ]
    },
    {
      "cell_type": "markdown",
      "source": [
        "중요도 도출 결과 결과 허리둘레가 가장 중요한 변수로 작용하였다.\n",
        "\n",
        "따라서, 허리둘레가 높은 시민들에게 당뇨 검사 및 당뇨에 대한 주의 및 관리를 제안할 수 있다."
      ],
      "metadata": {
        "id": "0ucou8ZHFqe2"
      }
    }
  ]
}